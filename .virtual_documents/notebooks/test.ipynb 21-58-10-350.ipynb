# 一つ上の階層からモジュールを参照できるようにする
import sys
sys.path.append('..')


# モジュールの変更を自動的に反映する
get_ipython().run_line_magic("load_ext", " autoreload")
get_ipython().run_line_magic("autoreload", " 2")


import numpy as np
import pandas as pd
from models import XGB
from inputs import load_data


train_x, train_y, test_x = load_data()


params = None
model = XGB(params)


tr_x = train_x[:80]
va_x = train_x[80:]
tr_y = train_y[:80]
va_y = train_y[80:]


early_stopping = 5
model.fit(tr_x, tr_y, va_x, va_y, early_stopping_rounds=early_stopping)


preds = model.predict(test_x)


index = test_x.index.to_numpy().reshape(-1, 1)
preds = preds.reshape(-1, 1)
submission = np.concatenate((index, preds), axis=1)
submission = pd.DataFrame(submission)


submission.to_csv('xgb.csv', index=False, header=False)



