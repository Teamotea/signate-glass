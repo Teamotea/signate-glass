{
 "cells": [
  {
   "cell_type": "markdown",
   "id": "reverse-geology",
   "metadata": {},
   "source": [
    "## Settings"
   ]
  },
  {
   "cell_type": "code",
   "execution_count": 1,
   "id": "constant-supervision",
   "metadata": {},
   "outputs": [],
   "source": [
    "# 一つ上の階層からモジュールを参照できるようにする\n",
    "import sys\n",
    "sys.path.append('..')"
   ]
  },
  {
   "cell_type": "code",
   "execution_count": 2,
   "id": "owned-python",
   "metadata": {},
   "outputs": [],
   "source": [
    "# モジュールの変更を自動的に反映する\n",
    "%load_ext autoreload\n",
    "%autoreload 2"
   ]
  },
  {
   "cell_type": "code",
   "execution_count": 3,
   "id": "based-desert",
   "metadata": {},
   "outputs": [],
   "source": [
    "import numpy as np\n",
    "import pandas as pd\n",
    "from inputs import load_data\n",
    "# # XGB\n",
    "from models import XGB\n",
    "# Torch\n",
    "import torch\n",
    "from torch import nn\n",
    "from torch.utils.data import DataLoader\n",
    "from torch.utils.data import random_split\n",
    "from models import TrainingDataset, Torch, transform_labels, restore_labels, train_model, validate_model, \\\n",
    "                   TestDataset, predict_test\n",
    "# Keras\n",
    "from keras import Sequential, Input\n",
    "from keras.utils import to_categorical\n",
    "from keras.layers import Dense, Dropout\n",
    "from keras.optimizers import Adam"
   ]
  },
  {
   "cell_type": "markdown",
   "id": "infrared-hypothesis",
   "metadata": {},
   "source": [
    "## XGB"
   ]
  },
  {
   "cell_type": "code",
   "execution_count": 4,
   "id": "urban-washington",
   "metadata": {},
   "outputs": [],
   "source": [
    "import warnings\n",
    "warnings.simplefilter('ignore', FutureWarning)"
   ]
  },
  {
   "cell_type": "code",
   "execution_count": 5,
   "id": "trained-joining",
   "metadata": {},
   "outputs": [],
   "source": [
    "train_x, train_y, test_x = load_data()"
   ]
  },
  {
   "cell_type": "code",
   "execution_count": 6,
   "id": "applicable-norwegian",
   "metadata": {},
   "outputs": [],
   "source": [
    "model = XGB(random_state=1)"
   ]
  },
  {
   "cell_type": "code",
   "execution_count": 44,
   "id": "little-cement",
   "metadata": {},
   "outputs": [],
   "source": [
    "tr_x = train_x#[:80]\n",
    "va_x = train_x#[80:]\n",
    "tr_y = train_y#[:80]\n",
    "va_y = train_y#[80:]"
   ]
  },
  {
   "cell_type": "code",
   "execution_count": 8,
   "id": "burning-berlin",
   "metadata": {},
   "outputs": [],
   "source": [
    "early_stopping = 5\n",
    "model.fit(tr_x, tr_y, va_x, va_y,\n",
    "          early_stopping_rounds=early_stopping,\n",
    "          verbose=False)"
   ]
  },
  {
   "cell_type": "code",
   "execution_count": 9,
   "id": "through-neighborhood",
   "metadata": {},
   "outputs": [],
   "source": [
    "preds = model.predict(test_x)"
   ]
  },
  {
   "cell_type": "code",
   "execution_count": 10,
   "id": "relative-recycling",
   "metadata": {},
   "outputs": [],
   "source": [
    "index = test_x.index.to_numpy().reshape(-1, 1)\n",
    "preds = preds.reshape(-1, 1)\n",
    "submission = np.concatenate((index, preds), axis=1)\n",
    "submission = pd.DataFrame(submission)"
   ]
  },
  {
   "cell_type": "code",
   "execution_count": 11,
   "id": "following-mounting",
   "metadata": {},
   "outputs": [],
   "source": [
    "submission.to_csv('xgb.csv', index=False, header=False)"
   ]
  },
  {
   "cell_type": "markdown",
   "id": "large-forwarding",
   "metadata": {},
   "source": [
    "### Parameter Tuning"
   ]
  },
  {
   "cell_type": "code",
   "execution_count": 36,
   "id": "humanitarian-commons",
   "metadata": {},
   "outputs": [],
   "source": [
    "from sklearn.model_selection import GridSearchCV, RandomizedSearchCV, LeaveOneOut\n",
    "from scipy.stats import uniform"
   ]
  },
  {
   "cell_type": "markdown",
   "id": "elder-northern",
   "metadata": {},
   "source": [
    "#### Grid Search CV"
   ]
  },
  {
   "cell_type": "code",
   "execution_count": 28,
   "id": "controlled-terminal",
   "metadata": {},
   "outputs": [],
   "source": [
    "param_grid = dict(random_state: [1],\n",
    "                  learning_rate: [10**(-i) for i in range(5)],\n",
    "                  max_depth: [20*(i+1) for i in range(5)],\n",
    "                  n_estimators: [20*(i+1) for i in range(5)],\n",
    "                  early_stopping_rounds: [20*(i+1) for i in range(5)])"
   ]
  },
  {
   "cell_type": "code",
   "execution_count": 30,
   "id": "variable-radius",
   "metadata": {},
   "outputs": [
    {
     "name": "stdout",
     "output_type": "stream",
     "text": [
      "Fitting 107 folds for each of 625 candidates, totalling 66875 fits\n"
     ]
    },
    {
     "name": "stderr",
     "output_type": "stream",
     "text": [
      "[Parallel(n_jobs=3)]: Using backend LokyBackend with 3 concurrent workers.\n",
      "[Parallel(n_jobs=3)]: Done  40 tasks      | elapsed:   10.8s\n",
      "[Parallel(n_jobs=3)]: Done 1842 tasks      | elapsed:   26.8s\n",
      "[Parallel(n_jobs=3)]: Done 4522 tasks      | elapsed:  1.1min\n",
      "[Parallel(n_jobs=3)]: Done 6786 tasks      | elapsed:  1.7min\n",
      "[Parallel(n_jobs=3)]: Done 9706 tasks      | elapsed:  2.7min\n",
      "[Parallel(n_jobs=3)]: Done 13266 tasks      | elapsed:  3.7min\n",
      "[Parallel(n_jobs=3)]: Done 17482 tasks      | elapsed:  4.7min\n",
      "[Parallel(n_jobs=3)]: Done 22338 tasks      | elapsed:  6.2min\n",
      "[Parallel(n_jobs=3)]: Done 27850 tasks      | elapsed:  7.8min\n",
      "[Parallel(n_jobs=3)]: Done 34002 tasks      | elapsed:  9.5min\n",
      "[Parallel(n_jobs=3)]: Done 40810 tasks      | elapsed: 11.5min\n",
      "[Parallel(n_jobs=3)]: Done 48258 tasks      | elapsed: 13.6min\n",
      "[Parallel(n_jobs=3)]: Done 56362 tasks      | elapsed: 15.6min\n",
      "[Parallel(n_jobs=3)]: Done 64752 tasks      | elapsed: 18.0min\n",
      "[Parallel(n_jobs=3)]: Done 66875 out of 66875 | elapsed: 18.6min finished\n"
     ]
    },
    {
     "name": "stdout",
     "output_type": "stream",
     "text": [
      "[22:17:02] WARNING: /Users/travis/build/dmlc/xgboost/src/learner.cc:516: \n",
      "Parameters: { early_stopping_rounds } might not be used.\n",
      "\n",
      "  This may not be accurate due to some parameters are only used in language bindings but\n",
      "  passed down to XGBoost core.  Or some parameters are not used but slip through this\n",
      "  verification. Please open an issue if you find above cases.\n",
      "\n",
      "\n"
     ]
    }
   ],
   "source": [
    "model = XGB()\n",
    "# Stratified KFold を使う場合\n",
    "gs = GridSearchCV(model, param_grid, cv=4, n_jobs=3, scoring='accuracy', verbose=2, refit=True)\n",
    "# # LeaveOneOut を使う場合\n",
    "# gs = GridSearchCV(model, param_grid, cv=LeaveOneOut(), n_jobs=3, scoring='accuracy', verbose=2, refit=True)\n",
    "gs = gs.fit(tr_x, tr_y)"
   ]
  },
  {
   "cell_type": "code",
   "execution_count": 54,
   "id": "injured-superior",
   "metadata": {},
   "outputs": [
    {
     "name": "stdout",
     "output_type": "stream",
     "text": [
      "best pararms are {'early_stopping_rounds': 20, 'learning_rate': 1, 'max_depth': 20, 'n_estimators': 20, 'random_state': 1}\n",
      "best score is 0.7383177570093458\n"
     ]
    }
   ],
   "source": [
    "print(f'best pararms are {gs.best_params_}')\n",
    "print(f'best score is {gs.best_score_}')"
   ]
  },
  {
   "cell_type": "code",
   "execution_count": 55,
   "id": "coastal-scanner",
   "metadata": {},
   "outputs": [],
   "source": [
    "model_best = gs.best_estimator_\n",
    "preds = model_best.predict(test_x)"
   ]
  },
  {
   "cell_type": "code",
   "execution_count": 56,
   "id": "severe-building",
   "metadata": {},
   "outputs": [],
   "source": [
    "index = test_x.index.to_numpy().reshape(-1, 1)\n",
    "preds = preds.reshape(-1, 1)\n",
    "submission = np.concatenate((index, preds), axis=1)\n",
    "submission = pd.DataFrame(submission)"
   ]
  },
  {
   "cell_type": "code",
   "execution_count": 57,
   "id": "supported-coalition",
   "metadata": {},
   "outputs": [],
   "source": [
    "submission.to_csv('xgb_gs.csv', index=False, header=False)"
   ]
  },
  {
   "cell_type": "markdown",
   "id": "addressed-riverside",
   "metadata": {},
   "source": [
    "#### Random Search CV"
   ]
  },
  {
   "cell_type": "code",
   "execution_count": 49,
   "id": "divine-balloon",
   "metadata": {},
   "outputs": [],
   "source": [
    "param_distributions = dict(random_state = [1],\n",
    "                           leaning_rate = uniform(loc=0.0001, scale=1),\n",
    "                           max_depth = [5*(i+1) for i in range(40)],\n",
    "                           n_estimators = [5*(i+1) for i in range(40)],\n",
    "                           early_stopping_rounds = [5*(i+1) for i in range(40)])"
   ]
  },
  {
   "cell_type": "code",
   "execution_count": 52,
   "id": "patent-arizona",
   "metadata": {},
   "outputs": [
    {
     "name": "stdout",
     "output_type": "stream",
     "text": [
      "[22:40:08] WARNING: /Users/travis/build/dmlc/xgboost/src/learner.cc:516: \n",
      "Parameters: { early_stopping_rounds, leaning_rate } might not be used.\n",
      "\n",
      "  This may not be accurate due to some parameters are only used in language bindings but\n",
      "  passed down to XGBoost core.  Or some parameters are not used but slip through this\n",
      "  verification. Please open an issue if you find above cases.\n",
      "\n",
      "\n"
     ]
    }
   ],
   "source": [
    "model = XGB()\n",
    "# Stratified KFold を使う場合\n",
    "rs = RandomizedSearchCV(model, param_distributions, n_iter=100, n_jobs=3, scoring='accuracy', cv=4)\n",
    "# # LeaveOneOut を使う場合\n",
    "# rs = RandomizedSearchCV(model, param_distributions, n_iter=100, n_jobs=3, scoring='accuracy', cv=LeaveOneOut())\n",
    "search = rs.fit(tr_x, tr_y)"
   ]
  },
  {
   "cell_type": "code",
   "execution_count": 53,
   "id": "norman-gibson",
   "metadata": {},
   "outputs": [
    {
     "name": "stdout",
     "output_type": "stream",
     "text": [
      "best pararms are {'early_stopping_rounds': 17.524791616074804, 'leaning_rate': 0.3980323864698272, 'max_depth': 5, 'n_estimators': 50, 'random_state': 1}\n",
      "best score is 0.7383177570093458\n"
     ]
    }
   ],
   "source": [
    "print(f'best pararms are {rs.best_params_}')\n",
    "print(f'best score is {rs.best_score_}')"
   ]
  },
  {
   "cell_type": "code",
   "execution_count": 58,
   "id": "apart-staff",
   "metadata": {},
   "outputs": [],
   "source": [
    "model_best = rs.best_estimator_\n",
    "preds = model_best.predict(test_x)"
   ]
  },
  {
   "cell_type": "code",
   "execution_count": 59,
   "id": "round-vertex",
   "metadata": {},
   "outputs": [],
   "source": [
    "index = test_x.index.to_numpy().reshape(-1, 1)\n",
    "preds = preds.reshape(-1, 1)\n",
    "submission = np.concatenate((index, preds), axis=1)\n",
    "submission = pd.DataFrame(submission)"
   ]
  },
  {
   "cell_type": "code",
   "execution_count": 60,
   "id": "beautiful-recall",
   "metadata": {},
   "outputs": [],
   "source": [
    "submission.to_csv('xgb_rs.csv', index=False, header=False)"
   ]
  },
  {
   "cell_type": "markdown",
   "id": "massive-charger",
   "metadata": {},
   "source": [
    "#### HyperOpt"
   ]
  },
  {
   "cell_type": "code",
   "execution_count": null,
   "id": "roman-spencer",
   "metadata": {},
   "outputs": [],
   "source": []
  },
  {
   "cell_type": "markdown",
   "id": "optimum-poland",
   "metadata": {},
   "source": [
    "## Torch"
   ]
  },
  {
   "cell_type": "code",
   "execution_count": 39,
   "id": "alternative-ebony",
   "metadata": {},
   "outputs": [],
   "source": [
    "dataset = TrainingDataset(target_transform = transform_labels)"
   ]
  },
  {
   "cell_type": "code",
   "execution_count": 40,
   "id": "possible-percentage",
   "metadata": {},
   "outputs": [],
   "source": [
    "train_ratio = 0.95\n",
    "train_size = int(train_ratio * len(dataset))\n",
    "test_size = len(dataset) - train_size\n",
    "train_dataset, val_dataset = random_split(dataset, [train_size, test_size])"
   ]
  },
  {
   "cell_type": "code",
   "execution_count": 41,
   "id": "minus-heath",
   "metadata": {},
   "outputs": [
    {
     "name": "stdout",
     "output_type": "stream",
     "text": [
      "Shape of X torch.Size([6, 9])\n",
      "Shape of y torch.Size([6]) torch.int64\n"
     ]
    }
   ],
   "source": [
    "batch_size = 10\n",
    "\n",
    "train_dataloader = DataLoader(train_dataset, batch_size=batch_size)\n",
    "val_dataloader = DataLoader(val_dataset, batch_size=batch_size)\n",
    "\n",
    "for X, y in val_dataloader:\n",
    "    print('Shape of X', X.shape)\n",
    "    print('Shape of y', y.shape, y.dtype)\n",
    "    break"
   ]
  },
  {
   "cell_type": "code",
   "execution_count": 42,
   "id": "suffering-spyware",
   "metadata": {},
   "outputs": [],
   "source": [
    "input_size = 9\n",
    "output_size = 6\n",
    "model = Torch(input_size, output_size)"
   ]
  },
  {
   "cell_type": "code",
   "execution_count": 43,
   "id": "stupid-discovery",
   "metadata": {},
   "outputs": [],
   "source": [
    "loss_fn = nn.CrossEntropyLoss()\n",
    "optimizer = torch.optim.SGD(model.parameters(), lr=1e-3)"
   ]
  },
  {
   "cell_type": "code",
   "execution_count": 44,
   "id": "public-thesaurus",
   "metadata": {},
   "outputs": [
    {
     "name": "stdout",
     "output_type": "stream",
     "text": [
      "Epoch 1\n",
      "-------------------------------\n",
      "loss: 1.796193  [    0/  101]\n",
      "loss: 1.775526  [   20/  101]\n",
      "loss: 1.795517  [   40/  101]\n",
      "loss: 1.787526  [   60/  101]\n",
      "loss: 1.784987  [   80/  101]\n",
      "loss: 1.875845  [  100/  101]\n",
      "Test Error: \n",
      "Accuracy: 16.7%, Avg loss: 0.306299 \n",
      "\n",
      "Epoch 2\n",
      "-------------------------------\n",
      "loss: 1.795148  [    0/  101]\n",
      "loss: 1.775630  [   20/  101]\n",
      "loss: 1.796246  [   40/  101]\n",
      "loss: 1.788041  [   60/  101]\n",
      "loss: 1.785111  [   80/  101]\n",
      "loss: 1.871614  [  100/  101]\n",
      "Test Error: \n",
      "Accuracy: 16.7%, Avg loss: 0.305924 \n",
      "\n",
      "Epoch 3\n",
      "-------------------------------\n",
      "loss: 1.794282  [    0/  101]\n",
      "loss: 1.775714  [   20/  101]\n",
      "loss: 1.796897  [   40/  101]\n",
      "loss: 1.788494  [   60/  101]\n",
      "loss: 1.785205  [   80/  101]\n",
      "loss: 1.868060  [  100/  101]\n",
      "Test Error: \n",
      "Accuracy: 16.7%, Avg loss: 0.305613 \n",
      "\n",
      "Epoch 4\n",
      "-------------------------------\n",
      "loss: 1.793576  [    0/  101]\n",
      "loss: 1.775770  [   20/  101]\n",
      "loss: 1.797454  [   40/  101]\n",
      "loss: 1.788868  [   60/  101]\n",
      "loss: 1.785265  [   80/  101]\n",
      "loss: 1.865156  [  100/  101]\n",
      "Test Error: \n",
      "Accuracy: 0.0%, Avg loss: 0.305361 \n",
      "\n",
      "Epoch 5\n",
      "-------------------------------\n",
      "loss: 1.793004  [    0/  101]\n",
      "loss: 1.775794  [   20/  101]\n",
      "loss: 1.797907  [   40/  101]\n",
      "loss: 1.789159  [   60/  101]\n",
      "loss: 1.785291  [   80/  101]\n",
      "loss: 1.862840  [  100/  101]\n",
      "Test Error: \n",
      "Accuracy: 0.0%, Avg loss: 0.305161 \n",
      "\n",
      "Done!\n"
     ]
    }
   ],
   "source": [
    "epochs = 5\n",
    "for t in range(epochs):\n",
    "    print(f'Epoch {t+1}\\n-------------------------------')\n",
    "    train_model(train_dataloader, model, loss_fn, optimizer)\n",
    "    validate_model(val_dataloader, model, loss_fn)\n",
    "print('Done!')"
   ]
  },
  {
   "cell_type": "code",
   "execution_count": 45,
   "id": "overhead-invitation",
   "metadata": {},
   "outputs": [],
   "source": [
    "test_dataset = TestDataset()\n",
    "test_dataloader = DataLoader(test_dataset, batch_size=batch_size)\n",
    "preds = predict_test(test_dataloader, model)"
   ]
  },
  {
   "cell_type": "code",
   "execution_count": 46,
   "id": "frozen-entity",
   "metadata": {},
   "outputs": [],
   "source": [
    "preds = [restore_labels(p) for p in preds]\n",
    "preds = np.array(preds)"
   ]
  },
  {
   "cell_type": "code",
   "execution_count": 47,
   "id": "prepared-grammar",
   "metadata": {},
   "outputs": [],
   "source": [
    "# preds"
   ]
  },
  {
   "cell_type": "code",
   "execution_count": 48,
   "id": "royal-submission",
   "metadata": {},
   "outputs": [],
   "source": [
    "_, _, test_x = load_data()\n",
    "index = test_x.index.to_numpy().reshape(-1, 1)\n",
    "preds = preds.reshape(-1, 1)\n",
    "submission = np.concatenate((index, preds), axis=1)\n",
    "submission = pd.DataFrame(submission)"
   ]
  },
  {
   "cell_type": "code",
   "execution_count": 49,
   "id": "valued-laugh",
   "metadata": {},
   "outputs": [],
   "source": [
    "submission.to_csv('torch.csv', index=False, header=False)"
   ]
  },
  {
   "cell_type": "markdown",
   "id": "august-submission",
   "metadata": {},
   "source": [
    "## Keras"
   ]
  },
  {
   "cell_type": "code",
   "execution_count": 212,
   "id": "working-recovery",
   "metadata": {},
   "outputs": [],
   "source": [
    "TRAINING_FOR_SUBMISSION = True\n",
    "validation_split = 0.0 if TRAINING_FOR_SUBMISSION else 0.4"
   ]
  },
  {
   "cell_type": "code",
   "execution_count": 213,
   "id": "mechanical-participant",
   "metadata": {},
   "outputs": [],
   "source": [
    "train_x, train_y, test_x = load_data()"
   ]
  },
  {
   "cell_type": "code",
   "execution_count": 214,
   "id": "developed-diana",
   "metadata": {},
   "outputs": [],
   "source": [
    "num_classes = len(train_y.unique())\n",
    "train_y = pd.get_dummies(train_y)"
   ]
  },
  {
   "cell_type": "code",
   "execution_count": 215,
   "id": "outer-surfing",
   "metadata": {},
   "outputs": [
    {
     "name": "stdout",
     "output_type": "stream",
     "text": [
      "Model: \"sequential_22\"\n",
      "_________________________________________________________________\n",
      "Layer (type)                 Output Shape              Param #   \n",
      "=================================================================\n",
      "dense_66 (Dense)             (None, 64)                640       \n",
      "_________________________________________________________________\n",
      "dense_67 (Dense)             (None, 64)                4160      \n",
      "_________________________________________________________________\n",
      "dense_68 (Dense)             (None, 6)                 390       \n",
      "=================================================================\n",
      "Total params: 5,190\n",
      "Trainable params: 5,190\n",
      "Non-trainable params: 0\n",
      "_________________________________________________________________\n"
     ]
    }
   ],
   "source": [
    "input_shape = (train_x.shape[1],)\n",
    "model = Sequential([\n",
    "    Input(shape=input_shape),\n",
    "    Dense(64, activation='relu'),\n",
    "    Dense(64, activation='relu'),\n",
    "    Dense(num_classes, activation='softmax')\n",
    "])\n",
    "model.summary()"
   ]
  },
  {
   "cell_type": "code",
   "execution_count": 216,
   "id": "sitting-pickup",
   "metadata": {},
   "outputs": [],
   "source": [
    "learning_rate = 1e-3\n",
    "optimizer = Adam(learning_rate=learning_rate)"
   ]
  },
  {
   "cell_type": "code",
   "execution_count": 217,
   "id": "conscious-chest",
   "metadata": {},
   "outputs": [
    {
     "name": "stdout",
     "output_type": "stream",
     "text": [
      "Epoch 1/5\n",
      "11/11 [==============================] - 0s 852us/step - loss: 8.0530 - accuracy: 0.1682\n",
      "Epoch 2/5\n",
      "11/11 [==============================] - 0s 789us/step - loss: 3.1567 - accuracy: 0.3551\n",
      "Epoch 3/5\n",
      "11/11 [==============================] - 0s 829us/step - loss: 2.0668 - accuracy: 0.3178\n",
      "Epoch 4/5\n",
      "11/11 [==============================] - 0s 903us/step - loss: 1.8164 - accuracy: 0.3738\n",
      "Epoch 5/5\n",
      "11/11 [==============================] - 0s 933us/step - loss: 1.5992 - accuracy: 0.4112\n"
     ]
    },
    {
     "data": {
      "text/plain": [
       "<tensorflow.python.keras.callbacks.History at 0x7ff84bd31290>"
      ]
     },
     "execution_count": 217,
     "metadata": {},
     "output_type": "execute_result"
    }
   ],
   "source": [
    "batch_size = 10\n",
    "epochs = 5\n",
    "\n",
    "model.compile(loss='categorical_crossentropy', optimizer=optimizer, metrics=['accuracy'])\n",
    "model.fit(train_x, train_y, batch_size=batch_size, epochs=epochs, validation_split=validation_split)"
   ]
  },
  {
   "cell_type": "code",
   "execution_count": 218,
   "id": "answering-commodity",
   "metadata": {},
   "outputs": [],
   "source": [
    "classes = train_y.columns.tolist()\n",
    "preds = model.predict(test_x).argmax(axis=1)\n",
    "preds = [classes[pred] for pred in preds]\n",
    "preds = np.array(preds)\n",
    "preds = preds.reshape(-1, 1)"
   ]
  },
  {
   "cell_type": "code",
   "execution_count": 222,
   "id": "strange-setup",
   "metadata": {},
   "outputs": [],
   "source": [
    "# preds"
   ]
  },
  {
   "cell_type": "code",
   "execution_count": 220,
   "id": "overhead-engineer",
   "metadata": {},
   "outputs": [],
   "source": [
    "index = test_x.index.to_numpy().reshape(-1, 1)\n",
    "submission = np.concatenate((index, preds), axis=1)\n",
    "submission = pd.DataFrame(submission)"
   ]
  },
  {
   "cell_type": "code",
   "execution_count": 221,
   "id": "framed-flower",
   "metadata": {},
   "outputs": [],
   "source": [
    "submission.to_csv('keras.csv', index=False, header=False)"
   ]
  },
  {
   "cell_type": "code",
   "execution_count": null,
   "id": "commercial-bryan",
   "metadata": {},
   "outputs": [],
   "source": []
  }
 ],
 "metadata": {
  "kernelspec": {
   "display_name": "Python 3",
   "language": "python",
   "name": "python3"
  },
  "language_info": {
   "codemirror_mode": {
    "name": "ipython",
    "version": 3
   },
   "file_extension": ".py",
   "mimetype": "text/x-python",
   "name": "python",
   "nbconvert_exporter": "python",
   "pygments_lexer": "ipython3",
   "version": "3.7.9"
  }
 },
 "nbformat": 4,
 "nbformat_minor": 5
}
