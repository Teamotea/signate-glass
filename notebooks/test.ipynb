{
 "cells": [
  {
   "cell_type": "markdown",
   "id": "governmental-warren",
   "metadata": {},
   "source": [
    "## Settings"
   ]
  },
  {
   "cell_type": "code",
   "execution_count": 1,
   "id": "southwest-honduras",
   "metadata": {},
   "outputs": [],
   "source": [
    "# 一つ上の階層からモジュールを参照できるようにする\n",
    "import sys\n",
    "sys.path.append('..')"
   ]
  },
  {
   "cell_type": "code",
   "execution_count": 2,
   "id": "final-benjamin",
   "metadata": {},
   "outputs": [],
   "source": [
    "# モジュールの変更を自動的に反映する\n",
    "%load_ext autoreload\n",
    "%autoreload 2"
   ]
  },
  {
   "cell_type": "code",
   "execution_count": 3,
   "id": "portable-birthday",
   "metadata": {},
   "outputs": [],
   "source": [
    "import numpy as np\n",
    "import pandas as pd\n",
    "from inputs import load_data\n",
    "# XGB\n",
    "from models import XGB\n",
    "# Torch\n",
    "import torch\n",
    "from torch import nn\n",
    "from torch.utils.data import DataLoader\n",
    "from torch.utils.data import random_split\n",
    "from models import TrainingDataset, Torch, train_model, validate_model, \\\n",
    "                   TestDataset, predict_test"
   ]
  },
  {
   "cell_type": "markdown",
   "id": "small-butler",
   "metadata": {},
   "source": [
    "## XGB"
   ]
  },
  {
   "cell_type": "code",
   "execution_count": 4,
   "id": "increasing-saint",
   "metadata": {},
   "outputs": [],
   "source": [
    "train_x, train_y, test_x = load_data()"
   ]
  },
  {
   "cell_type": "code",
   "execution_count": 8,
   "id": "chief-programming",
   "metadata": {},
   "outputs": [],
   "source": [
    "params = None\n",
    "model = XGB(params)"
   ]
  },
  {
   "cell_type": "code",
   "execution_count": 9,
   "id": "appointed-heath",
   "metadata": {},
   "outputs": [],
   "source": [
    "tr_x = train_x#[:80]\n",
    "va_x = train_x#[80:]\n",
    "tr_y = train_y#[:80]\n",
    "va_y = train_y#[80:]"
   ]
  },
  {
   "cell_type": "code",
   "execution_count": 15,
   "id": "golden-defensive",
   "metadata": {},
   "outputs": [],
   "source": [
    "early_stopping = 5\n",
    "model.fit(tr_x, tr_y, va_x, va_y,\n",
    "          early_stopping_rounds=early_stopping,\n",
    "          verbose=False)"
   ]
  },
  {
   "cell_type": "code",
   "execution_count": 11,
   "id": "digital-ethernet",
   "metadata": {},
   "outputs": [],
   "source": [
    "preds = model.predict(test_x)"
   ]
  },
  {
   "cell_type": "code",
   "execution_count": 12,
   "id": "trained-alfred",
   "metadata": {},
   "outputs": [],
   "source": [
    "index = test_x.index.to_numpy().reshape(-1, 1)\n",
    "preds = preds.reshape(-1, 1)\n",
    "submission = np.concatenate((index, preds), axis=1)\n",
    "submission = pd.DataFrame(submission)"
   ]
  },
  {
   "cell_type": "code",
   "execution_count": 13,
   "id": "positive-judgment",
   "metadata": {},
   "outputs": [],
   "source": [
    "submission.to_csv('xgb.csv', index=False, header=False)"
   ]
  },
  {
   "cell_type": "markdown",
   "id": "valuable-circus",
   "metadata": {},
   "source": [
    "## Torch"
   ]
  },
  {
   "cell_type": "code",
   "execution_count": 40,
   "id": "greatest-winner",
   "metadata": {},
   "outputs": [],
   "source": [
    "def transform_labels(y):\n",
    "    if y == 1:\n",
    "        return 0\n",
    "    if y == 2:\n",
    "        return 1\n",
    "    if y == 3:\n",
    "        return 2\n",
    "    if y == 5:\n",
    "        return 3\n",
    "    if y == 6:\n",
    "        return 4\n",
    "    if y == 7:\n",
    "        return 5"
   ]
  },
  {
   "cell_type": "code",
   "execution_count": 41,
   "id": "increased-brunei",
   "metadata": {},
   "outputs": [],
   "source": [
    "dataset = TrainingDataset(target_transform = transform_labels)"
   ]
  },
  {
   "cell_type": "code",
   "execution_count": 42,
   "id": "educational-chair",
   "metadata": {},
   "outputs": [],
   "source": [
    "train_ratio = 0.8\n",
    "train_size = int(train_ratio * len(dataset))\n",
    "test_size = len(dataset) - train_size\n",
    "train_dataset, val_dataset = random_split(dataset, [train_size, test_size])"
   ]
  },
  {
   "cell_type": "code",
   "execution_count": 43,
   "id": "statistical-missouri",
   "metadata": {},
   "outputs": [
    {
     "name": "stdout",
     "output_type": "stream",
     "text": [
      "Shape of X torch.Size([10, 9])\n",
      "Shape of y torch.Size([10]) torch.int64\n"
     ]
    }
   ],
   "source": [
    "batch_size = 10\n",
    "\n",
    "train_dataloader = DataLoader(train_dataset, batch_size=batch_size)\n",
    "val_dataloader = DataLoader(val_dataset, batch_size=batch_size)\n",
    "\n",
    "for X, y in val_dataloader:\n",
    "    print('Shape of X', X.shape)\n",
    "    print('Shape of y', y.shape, y.dtype)\n",
    "    break"
   ]
  },
  {
   "cell_type": "code",
   "execution_count": 49,
   "id": "pediatric-texture",
   "metadata": {},
   "outputs": [],
   "source": [
    "input_size = 9\n",
    "output_size = 6\n",
    "model = Torch(input_size, output_size)"
   ]
  },
  {
   "cell_type": "code",
   "execution_count": 50,
   "id": "incomplete-twins",
   "metadata": {},
   "outputs": [],
   "source": [
    "loss_fn = nn.CrossEntropyLoss()\n",
    "optimizer = torch.optim.SGD(model.parameters(), lr=1e-3)"
   ]
  },
  {
   "cell_type": "code",
   "execution_count": 51,
   "id": "aware-eleven",
   "metadata": {},
   "outputs": [
    {
     "name": "stdout",
     "output_type": "stream",
     "text": [
      "Epoch 1\n",
      "-------------------------------\n",
      "loss: 2.547250  [    0/   85]\n",
      "loss: 1.713688  [   20/   85]\n",
      "loss: 1.771018  [   40/   85]\n",
      "loss: 1.452805  [   60/   85]\n",
      "loss: 2.468002  [   80/   85]\n",
      "Test Error: \n",
      "Accuracy: 18.2%, Avg loss: 0.231427 \n",
      "\n",
      "\n",
      "\n",
      "Epoch 2\n",
      "-------------------------------\n",
      "loss: 1.284566  [    0/   85]\n",
      "loss: 1.528397  [   20/   85]\n",
      "loss: 1.799482  [   40/   85]\n",
      "loss: 1.338935  [   60/   85]\n",
      "loss: 1.777973  [   80/   85]\n",
      "Test Error: \n",
      "Accuracy: 50.0%, Avg loss: 0.218241 \n",
      "\n",
      "\n",
      "\n",
      "Epoch 3\n",
      "-------------------------------\n",
      "loss: 1.151711  [    0/   85]\n",
      "loss: 1.480496  [   20/   85]\n",
      "loss: 1.792628  [   40/   85]\n",
      "loss: 1.337609  [   60/   85]\n",
      "loss: 1.776502  [   80/   85]\n",
      "Test Error: \n",
      "Accuracy: 50.0%, Avg loss: 0.218181 \n",
      "\n",
      "\n",
      "\n",
      "Epoch 4\n",
      "-------------------------------\n",
      "loss: 1.151702  [    0/   85]\n",
      "loss: 1.480107  [   20/   85]\n",
      "loss: 1.790741  [   40/   85]\n",
      "loss: 1.336833  [   60/   85]\n",
      "loss: 1.775420  [   80/   85]\n",
      "Test Error: \n",
      "Accuracy: 50.0%, Avg loss: 0.218159 \n",
      "\n",
      "\n",
      "\n",
      "Epoch 5\n",
      "-------------------------------\n",
      "loss: 1.151567  [    0/   85]\n",
      "loss: 1.479509  [   20/   85]\n",
      "loss: 1.789187  [   40/   85]\n",
      "loss: 1.336156  [   60/   85]\n",
      "loss: 1.774620  [   80/   85]\n",
      "Test Error: \n",
      "Accuracy: 50.0%, Avg loss: 0.218123 \n",
      "\n",
      "\n",
      "\n",
      "Done!\n"
     ]
    }
   ],
   "source": [
    "epochs = 5\n",
    "for t in range(epochs):\n",
    "    print(f'Epoch {t+1}\\n-------------------------------')\n",
    "    train_model(train_dataloader, model, loss_fn, optimizer)\n",
    "    validate_model(val_dataloader, model, loss_fn)\n",
    "    print('\\n')\n",
    "print('Done!')"
   ]
  },
  {
   "cell_type": "code",
   "execution_count": 52,
   "id": "coastal-consolidation",
   "metadata": {},
   "outputs": [],
   "source": [
    "test_dataset = TestDataset()\n",
    "test_dataloader = DataLoader(test_dataset, batch_size=batch_size)\n",
    "preds = predict_test(test_dataloader, model)"
   ]
  },
  {
   "cell_type": "code",
   "execution_count": 53,
   "id": "secure-reasoning",
   "metadata": {},
   "outputs": [
    {
     "data": {
      "text/plain": [
       "[tensor([1.6872, 1.7993, 0.0000, 0.0000, 0.0000, 0.0000]),\n",
       " tensor([1.6753, 1.8407, 0.0000, 0.0000, 0.0000, 0.0000]),\n",
       " tensor([1.7023, 1.7446, 0.0000, 0.0000, 0.0000, 0.0000]),\n",
       " tensor([1.6979, 1.8294, 0.0000, 0.0000, 0.0000, 0.0000]),\n",
       " tensor([1.7027, 1.7427, 0.0000, 0.0000, 0.0000, 0.0000]),\n",
       " tensor([1.7040, 1.7476, 0.0000, 0.0000, 0.0000, 0.0000]),\n",
       " tensor([1.6936, 1.7428, 0.0000, 0.0000, 0.0000, 0.0000]),\n",
       " tensor([1.6874, 1.8413, 0.0000, 0.0000, 0.0000, 0.0000]),\n",
       " tensor([1.6979, 1.8317, 0.0000, 0.0000, 0.0000, 0.0000]),\n",
       " tensor([1.6924, 1.8773, 0.0000, 0.0000, 0.0000, 0.0000]),\n",
       " tensor([1.7018, 1.8316, 0.0000, 0.0000, 0.0000, 0.0000]),\n",
       " tensor([1.7207, 1.7922, 0.0000, 0.0000, 0.0000, 0.0000]),\n",
       " tensor([1.6183, 1.8668, 0.0000, 0.0000, 0.0000, 0.0000]),\n",
       " tensor([1.6882, 1.8465, 0.0000, 0.0000, 0.0000, 0.0000]),\n",
       " tensor([1.6175, 1.7174, 0.0000, 0.0000, 0.0000, 0.0000]),\n",
       " tensor([1.6860, 1.8071, 0.0000, 0.0000, 0.0000, 0.0000]),\n",
       " tensor([1.6923, 1.8602, 0.0000, 0.0000, 0.0000, 0.0000]),\n",
       " tensor([1.6534, 1.7611, 0.0000, 0.0000, 0.0000, 0.0000]),\n",
       " tensor([1.6786, 1.8468, 0.0000, 0.0000, 0.0000, 0.0000]),\n",
       " tensor([1.6016, 1.8402, 0.0000, 0.0000, 0.0000, 0.0000]),\n",
       " tensor([1.6378, 1.6299, 0.0216, 0.0000, 0.0000, 0.0000]),\n",
       " tensor([1.6981, 1.8054, 0.0000, 0.0000, 0.0000, 0.0000]),\n",
       " tensor([1.6880, 1.8539, 0.0000, 0.0000, 0.0000, 0.0000]),\n",
       " tensor([1.6901, 1.8269, 0.0000, 0.0000, 0.0000, 0.0000]),\n",
       " tensor([1.6484, 1.7988, 0.0000, 0.0000, 0.0000, 0.0000]),\n",
       " tensor([1.6981, 1.8309, 0.0000, 0.0000, 0.0000, 0.0000]),\n",
       " tensor([1.6170, 1.8682, 0.0000, 0.0000, 0.0000, 0.0000]),\n",
       " tensor([1.7049, 1.7445, 0.0000, 0.0000, 0.0000, 0.0000]),\n",
       " tensor([1.6880, 1.7582, 0.0000, 0.0000, 0.0000, 0.0000]),\n",
       " tensor([1.6900, 1.8243, 0.0000, 0.0000, 0.0000, 0.0000]),\n",
       " tensor([1.6552, 1.7877, 0.0000, 0.0000, 0.0000, 0.0000]),\n",
       " tensor([1.7056, 1.8361, 0.0000, 0.0000, 0.0000, 0.0000]),\n",
       " tensor([1.6991, 1.8347, 0.0000, 0.0000, 0.0000, 0.0000]),\n",
       " tensor([1.7032, 1.8290, 0.0000, 0.0000, 0.0000, 0.0000]),\n",
       " tensor([1.6777, 1.7875, 0.0000, 0.0000, 0.0000, 0.0000]),\n",
       " tensor([1.6992, 1.8266, 0.0000, 0.0000, 0.0000, 0.0000]),\n",
       " tensor([1.6409, 1.7098, 0.0000, 0.0000, 0.0000, 0.0000]),\n",
       " tensor([1.6119, 1.7546, 0.0000, 0.0000, 0.0000, 0.0000]),\n",
       " tensor([1.6938, 1.8283, 0.0000, 0.0000, 0.0000, 0.0000]),\n",
       " tensor([1.6950, 1.8689, 0.0000, 0.0000, 0.0000, 0.0000]),\n",
       " tensor([1.6746, 1.7982, 0.0000, 0.0000, 0.0000, 0.0000]),\n",
       " tensor([1.6917, 1.8378, 0.0000, 0.0000, 0.0000, 0.0000]),\n",
       " tensor([1.6288, 1.8276, 0.0000, 0.0000, 0.0000, 0.0000]),\n",
       " tensor([1.6985, 1.8202, 0.0000, 0.0000, 0.0000, 0.0000]),\n",
       " tensor([1.7016, 1.8382, 0.0000, 0.0000, 0.0000, 0.0000]),\n",
       " tensor([1.7063, 1.8476, 0.0000, 0.0000, 0.0000, 0.0000]),\n",
       " tensor([1.7053, 1.8300, 0.0000, 0.0000, 0.0000, 0.0000]),\n",
       " tensor([1.6872, 1.8296, 0.0000, 0.0000, 0.0000, 0.0000]),\n",
       " tensor([1.7207, 1.8190, 0.0000, 0.0000, 0.0000, 0.0000]),\n",
       " tensor([1.7111, 1.8382, 0.0000, 0.0000, 0.0000, 0.0000]),\n",
       " tensor([1.6961, 1.8175, 0.0000, 0.0000, 0.0000, 0.0000]),\n",
       " tensor([1.6940, 1.8569, 0.0000, 0.0000, 0.0000, 0.0000]),\n",
       " tensor([1.6833, 1.8528, 0.0000, 0.0000, 0.0000, 0.0000]),\n",
       " tensor([1.6915, 1.8202, 0.0000, 0.0000, 0.0000, 0.0000]),\n",
       " tensor([1.6916, 1.8656, 0.0000, 0.0000, 0.0000, 0.0000]),\n",
       " tensor([1.6933, 1.8858, 0.0000, 0.0000, 0.0000, 0.0000]),\n",
       " tensor([1.6249, 1.8765, 0.0000, 0.0000, 0.0000, 0.0000]),\n",
       " tensor([1.6935, 1.8601, 0.0000, 0.0000, 0.0000, 0.0000]),\n",
       " tensor([1.6823, 1.7679, 0.0000, 0.0000, 0.0000, 0.0000]),\n",
       " tensor([1.6895, 1.7830, 0.0000, 0.0000, 0.0000, 0.0000]),\n",
       " tensor([1.6167, 1.8589, 0.0000, 0.0000, 0.0000, 0.0000]),\n",
       " tensor([1.7064, 1.8302, 0.0000, 0.0000, 0.0000, 0.0000]),\n",
       " tensor([1.6863, 1.7665, 0.0000, 0.0000, 0.0000, 0.0000]),\n",
       " tensor([1.6849, 1.8273, 0.0000, 0.0000, 0.0000, 0.0000]),\n",
       " tensor([1.7037, 1.8339, 0.0000, 0.0000, 0.0000, 0.0000]),\n",
       " tensor([1.6993, 1.8678, 0.0000, 0.0000, 0.0000, 0.0000]),\n",
       " tensor([1.6195, 1.8752, 0.0000, 0.0000, 0.0000, 0.0000]),\n",
       " tensor([1.7016, 1.8432, 0.0000, 0.0000, 0.0000, 0.0000]),\n",
       " tensor([1.6927, 1.8278, 0.0000, 0.0000, 0.0000, 0.0000]),\n",
       " tensor([1.6016, 1.8440, 0.0000, 0.0000, 0.0000, 0.0000]),\n",
       " tensor([1.6266, 1.8795, 0.0000, 0.0000, 0.0000, 0.0000]),\n",
       " tensor([1.7013, 1.8241, 0.0000, 0.0000, 0.0000, 0.0000]),\n",
       " tensor([1.6074, 1.7910, 0.0000, 0.0000, 0.0000, 0.0000]),\n",
       " tensor([1.6672, 1.6595, 0.0127, 0.0000, 0.0000, 0.0000]),\n",
       " tensor([1.7061, 1.7631, 0.0000, 0.0000, 0.0000, 0.0000]),\n",
       " tensor([1.5737, 1.7399, 0.0000, 0.0000, 0.0000, 0.0000]),\n",
       " tensor([1.6082, 1.8555, 0.0000, 0.0000, 0.0000, 0.0000]),\n",
       " tensor([1.6658, 1.6498, 0.0180, 0.0000, 0.0000, 0.0000]),\n",
       " tensor([1.6527, 1.7848, 0.0000, 0.0000, 0.0000, 0.0000]),\n",
       " tensor([1.7036, 1.7633, 0.0000, 0.0000, 0.0000, 0.0000]),\n",
       " tensor([1.6100, 1.8524, 0.0000, 0.0000, 0.0000, 0.0000]),\n",
       " tensor([1.5629, 1.9256, 0.0000, 0.0000, 0.0000, 0.0000]),\n",
       " tensor([1.5578, 1.9186, 0.0000, 0.0000, 0.0000, 0.0000]),\n",
       " tensor([1.6120, 1.8430, 0.0000, 0.0000, 0.0000, 0.0000]),\n",
       " tensor([1.6643, 1.8365, 0.0000, 0.0000, 0.0000, 0.0000]),\n",
       " tensor([1.6992, 1.8275, 0.0000, 0.0000, 0.0000, 0.0000]),\n",
       " tensor([1.6552, 1.8473, 0.0000, 0.0000, 0.0000, 0.0000]),\n",
       " tensor([1.6961, 1.8498, 0.0000, 0.0000, 0.0000, 0.0000]),\n",
       " tensor([1.6878, 1.8160, 0.0000, 0.0000, 0.0000, 0.0000]),\n",
       " tensor([1.7003, 1.8339, 0.0000, 0.0000, 0.0000, 0.0000]),\n",
       " tensor([1.6852, 1.8388, 0.0000, 0.0000, 0.0000, 0.0000]),\n",
       " tensor([1.6206, 1.8544, 0.0000, 0.0000, 0.0000, 0.0000]),\n",
       " tensor([1.7035, 1.8407, 0.0000, 0.0000, 0.0000, 0.0000]),\n",
       " tensor([1.6886, 1.7628, 0.0000, 0.0000, 0.0000, 0.0000]),\n",
       " tensor([1.6607, 1.7754, 0.0000, 0.0000, 0.0000, 0.0000]),\n",
       " tensor([1.6582, 1.7928, 0.0000, 0.0000, 0.0000, 0.0000]),\n",
       " tensor([1.6103, 1.8446, 0.0000, 0.0000, 0.0000, 0.0000]),\n",
       " tensor([1.6916, 1.7498, 0.0000, 0.0000, 0.0000, 0.0000]),\n",
       " tensor([1.6953, 1.8131, 0.0000, 0.0000, 0.0000, 0.0000]),\n",
       " tensor([1.6906, 1.8175, 0.0000, 0.0000, 0.0000, 0.0000]),\n",
       " tensor([1.6765, 1.9603, 0.0000, 0.0000, 0.0000, 0.0000]),\n",
       " tensor([1.6739, 1.8195, 0.0000, 0.0000, 0.0000, 0.0000]),\n",
       " tensor([1.6960, 1.8527, 0.0000, 0.0000, 0.0000, 0.0000]),\n",
       " tensor([1.6724, 1.8008, 0.0000, 0.0000, 0.0000, 0.0000]),\n",
       " tensor([1.6879, 1.8052, 0.0000, 0.0000, 0.0000, 0.0000]),\n",
       " tensor([1.6966, 1.8270, 0.0000, 0.0000, 0.0000, 0.0000]),\n",
       " tensor([1.6751, 1.7529, 0.0000, 0.0000, 0.0000, 0.0000])]"
      ]
     },
     "execution_count": 53,
     "metadata": {},
     "output_type": "execute_result"
    }
   ],
   "source": [
    "preds"
   ]
  },
  {
   "cell_type": "code",
   "execution_count": null,
   "id": "hybrid-patent",
   "metadata": {},
   "outputs": [],
   "source": []
  }
 ],
 "metadata": {
  "kernelspec": {
   "display_name": "Python 3",
   "language": "python",
   "name": "python3"
  },
  "language_info": {
   "codemirror_mode": {
    "name": "ipython",
    "version": 3
   },
   "file_extension": ".py",
   "mimetype": "text/x-python",
   "name": "python",
   "nbconvert_exporter": "python",
   "pygments_lexer": "ipython3",
   "version": "3.7.9"
  }
 },
 "nbformat": 4,
 "nbformat_minor": 5
}
