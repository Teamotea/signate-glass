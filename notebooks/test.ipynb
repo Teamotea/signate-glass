{
 "cells": [
  {
   "cell_type": "markdown",
   "id": "above-tension",
   "metadata": {},
   "source": [
    "## Settings"
   ]
  },
  {
   "cell_type": "code",
   "execution_count": 1,
   "id": "rural-auditor",
   "metadata": {},
   "outputs": [],
   "source": [
    "# 一つ上の階層からモジュールを参照できるようにする\n",
    "import sys\n",
    "sys.path.append('..')"
   ]
  },
  {
   "cell_type": "code",
   "execution_count": 2,
   "id": "regulated-belarus",
   "metadata": {},
   "outputs": [],
   "source": [
    "# モジュールの変更を自動的に反映する\n",
    "%load_ext autoreload\n",
    "%autoreload 2"
   ]
  },
  {
   "cell_type": "code",
   "execution_count": 3,
   "id": "christian-circle",
   "metadata": {},
   "outputs": [],
   "source": [
    "import numpy as np\n",
    "import pandas as pd\n",
    "from inputs import load_data\n",
    "# # XGB\n",
    "from models import XGB\n",
    "import warnings\n",
    "warnings.simplefilter('ignore', FutureWarning)\n",
    "from sklearn.model_selection import GridSearchCV, RandomizedSearchCV, LeaveOneOut\n",
    "from scipy.stats import uniform\n",
    "# Torch\n",
    "import torch\n",
    "from torch import nn\n",
    "from torch.utils.data import DataLoader\n",
    "from torch.utils.data import random_split\n",
    "from models import TrainingDataset, Torch, transform_labels, restore_labels, train_model, validate_model, \\\n",
    "                   TestDataset, predict_test\n",
    "# Keras\n",
    "from keras import Sequential, Input\n",
    "from keras.utils import to_categorical\n",
    "from keras.layers import Dense, Dropout\n",
    "from keras.optimizers import Adam"
   ]
  },
  {
   "cell_type": "markdown",
   "id": "helpful-transition",
   "metadata": {},
   "source": [
    "## XGB"
   ]
  },
  {
   "cell_type": "code",
   "execution_count": 4,
   "id": "marine-profession",
   "metadata": {},
   "outputs": [],
   "source": [
    "train_x, train_y, test_x = load_data()"
   ]
  },
  {
   "cell_type": "code",
   "execution_count": 5,
   "id": "undefined-taiwan",
   "metadata": {},
   "outputs": [],
   "source": [
    "model = XGB(random_state=1)"
   ]
  },
  {
   "cell_type": "code",
   "execution_count": 6,
   "id": "hidden-investigation",
   "metadata": {},
   "outputs": [],
   "source": [
    "tr_x = train_x#[:80]\n",
    "va_x = train_x#[80:]\n",
    "tr_y = train_y#[:80]\n",
    "va_y = train_y#[80:]"
   ]
  },
  {
   "cell_type": "code",
   "execution_count": 7,
   "id": "independent-iraqi",
   "metadata": {},
   "outputs": [],
   "source": [
    "early_stopping = 5\n",
    "model.fit(tr_x, tr_y, va_x, va_y,\n",
    "          early_stopping_rounds=early_stopping,\n",
    "          verbose=False)"
   ]
  },
  {
   "cell_type": "code",
   "execution_count": 8,
   "id": "greek-appreciation",
   "metadata": {},
   "outputs": [],
   "source": [
    "preds = model.predict(test_x)"
   ]
  },
  {
   "cell_type": "code",
   "execution_count": 9,
   "id": "immune-quantity",
   "metadata": {},
   "outputs": [],
   "source": [
    "index = test_x.index.to_numpy().reshape(-1, 1)\n",
    "preds = preds.reshape(-1, 1)\n",
    "submission = np.concatenate((index, preds), axis=1)\n",
    "submission = pd.DataFrame(submission)"
   ]
  },
  {
   "cell_type": "code",
   "execution_count": 10,
   "id": "flying-companion",
   "metadata": {},
   "outputs": [],
   "source": [
    "submission.to_csv('xgb.csv', index=False, header=False)"
   ]
  },
  {
   "cell_type": "markdown",
   "id": "disabled-lobby",
   "metadata": {},
   "source": [
    "### Parameter Tuning"
   ]
  },
  {
   "cell_type": "markdown",
   "id": "dangerous-check",
   "metadata": {},
   "source": [
    "#### Grid Search CV"
   ]
  },
  {
   "cell_type": "code",
   "execution_count": 11,
   "id": "referenced-constraint",
   "metadata": {},
   "outputs": [],
   "source": [
    "param_grid = {\n",
    "    'random_state': [1],\n",
    "    'learning_rate': [0.1],\n",
    "    'n_estimators': [1000],\n",
    "    'early_stopping_rounds': [50],\n",
    "    'max_depth': [20*(i+1) for i in range(5)],\n",
    "    'min_child_weight': [0.1, 0.5, 1, 2, 3, 5],\n",
    "    # 'gamma': [0, 0.1, 0.5, 1, 2, 3, 5],\n",
    "    # 'alpha': [0, 0.1, 0.5, 1, 2, 3, 5],\n",
    "    # 'subsample': np.linspace(0.1, 1, 10),\n",
    "    'colsample': np.linspace(0.1, 1, 10),\n",
    "    'lambda': [0, 0.1, 0.5, 1, 2, 3, 5]\n",
    "}"
   ]
  },
  {
   "cell_type": "code",
   "execution_count": 43,
   "id": "hydraulic-metropolitan",
   "metadata": {},
   "outputs": [
    {
     "name": "stdout",
     "output_type": "stream",
     "text": [
      "Fitting 4 folds for each of 2100 candidates, totalling 8400 fits\n"
     ]
    },
    {
     "name": "stderr",
     "output_type": "stream",
     "text": [
      "[Parallel(n_jobs=3)]: Using backend LokyBackend with 3 concurrent workers.\n",
      "[Parallel(n_jobs=3)]: Done  35 tasks      | elapsed:   13.4s\n",
      "[Parallel(n_jobs=3)]: Done 156 tasks      | elapsed:   23.7s\n",
      "[Parallel(n_jobs=3)]: Done 359 tasks      | elapsed:   41.9s\n",
      "[Parallel(n_jobs=3)]: Done 642 tasks      | elapsed:  1.1min\n",
      "[Parallel(n_jobs=3)]: Done 1007 tasks      | elapsed:  1.7min\n",
      "[Parallel(n_jobs=3)]: Done 1452 tasks      | elapsed:  2.4min\n",
      "[Parallel(n_jobs=3)]: Done 1979 tasks      | elapsed:  3.2min\n",
      "[Parallel(n_jobs=3)]: Done 2586 tasks      | elapsed:  4.2min\n",
      "[Parallel(n_jobs=3)]: Done 3275 tasks      | elapsed:  5.3min\n",
      "[Parallel(n_jobs=3)]: Done 4044 tasks      | elapsed:  6.7min\n",
      "[Parallel(n_jobs=3)]: Done 4895 tasks      | elapsed:  8.1min\n",
      "[Parallel(n_jobs=3)]: Done 5826 tasks      | elapsed:  9.7min\n",
      "[Parallel(n_jobs=3)]: Done 6839 tasks      | elapsed: 11.3min\n",
      "[Parallel(n_jobs=3)]: Done 7932 tasks      | elapsed: 13.3min\n",
      "[Parallel(n_jobs=3)]: Done 8400 out of 8400 | elapsed: 14.2min finished\n"
     ]
    },
    {
     "name": "stdout",
     "output_type": "stream",
     "text": [
      "[00:27:22] WARNING: /Users/travis/build/dmlc/xgboost/src/learner.cc:516: \n",
      "Parameters: { colsample, early_stopping_rounds } might not be used.\n",
      "\n",
      "  This may not be accurate due to some parameters are only used in language bindings but\n",
      "  passed down to XGBoost core.  Or some parameters are not used but slip through this\n",
      "  verification. Please open an issue if you find above cases.\n",
      "\n",
      "\n"
     ]
    }
   ],
   "source": [
    "model = XGB()\n",
    "# Stratified KFold を使う場合\n",
    "gs = GridSearchCV(model, param_grid, cv=4, n_jobs=3, scoring='accuracy', verbose=2, refit=True)\n",
    "# # LeaveOneOut を使う場合\n",
    "# gs = GridSearchCV(model, param_grid, cv=LeaveOneOut(), n_jobs=3, scoring='accuracy', verbose=2, refit=True)\n",
    "gs = gs.fit(tr_x, tr_y)"
   ]
  },
  {
   "cell_type": "code",
   "execution_count": 44,
   "id": "unlike-phenomenon",
   "metadata": {},
   "outputs": [
    {
     "name": "stdout",
     "output_type": "stream",
     "text": [
      "best pararms are {'colsample': 0.1, 'early_stopping_rounds': 50, 'lambda': 1, 'learning_rate': 0.1, 'max_depth': 20, 'min_child_weight': 1, 'n_estimators': 1000, 'random_state': 1}\n",
      "best score is 0.756054131054131\n"
     ]
    }
   ],
   "source": [
    "print(f'best pararms are {gs.best_params_}')\n",
    "print(f'best score is {gs.best_score_}')"
   ]
  },
  {
   "cell_type": "code",
   "execution_count": 45,
   "id": "electronic-frame",
   "metadata": {},
   "outputs": [],
   "source": [
    "model_best = gs.best_estimator_\n",
    "preds = model_best.predict(test_x)"
   ]
  },
  {
   "cell_type": "code",
   "execution_count": 46,
   "id": "together-input",
   "metadata": {},
   "outputs": [],
   "source": [
    "index = test_x.index.to_numpy().reshape(-1, 1)\n",
    "preds = preds.reshape(-1, 1)\n",
    "submission = np.concatenate((index, preds), axis=1)\n",
    "submission = pd.DataFrame(submission)"
   ]
  },
  {
   "cell_type": "code",
   "execution_count": 47,
   "id": "rural-usage",
   "metadata": {},
   "outputs": [],
   "source": [
    "submission.to_csv('xgb_gs.csv', index=False, header=False)"
   ]
  },
  {
   "cell_type": "markdown",
   "id": "tired-finder",
   "metadata": {},
   "source": [
    "#### Random Search CV"
   ]
  },
  {
   "cell_type": "code",
   "execution_count": 12,
   "id": "excited-pocket",
   "metadata": {},
   "outputs": [],
   "source": [
    "param_distributions = {\n",
    "    'random_state': [1],\n",
    "    'learning_rate': uniform(loc=0.0001, scale=1),\n",
    "    'max_depth': [5*(i+1) for i in range(40)],\n",
    "    'n_estimators': [5*(i+1) for i in range(40)],\n",
    "    'early_stopping_rounds': [5*(i+1) for i in range(40)]\n",
    "}"
   ]
  },
  {
   "cell_type": "code",
   "execution_count": 21,
   "id": "dress-version",
   "metadata": {},
   "outputs": [
    {
     "name": "stdout",
     "output_type": "stream",
     "text": [
      "[23:51:58] WARNING: /Users/travis/build/dmlc/xgboost/src/learner.cc:516: \n",
      "Parameters: { early_stopping_rounds, leaning_rate } might not be used.\n",
      "\n",
      "  This may not be accurate due to some parameters are only used in language bindings but\n",
      "  passed down to XGBoost core.  Or some parameters are not used but slip through this\n",
      "  verification. Please open an issue if you find above cases.\n",
      "\n",
      "\n"
     ]
    }
   ],
   "source": [
    "model = XGB()\n",
    "# Stratified KFold を使う場合\n",
    "rs = RandomizedSearchCV(model, param_distributions, n_iter=100, n_jobs=3, scoring='accuracy', cv=4)\n",
    "# # LeaveOneOut を使う場合\n",
    "# rs = RandomizedSearchCV(model, param_distributions, n_iter=100, n_jobs=3, scoring='accuracy', cv=LeaveOneOut())\n",
    "search = rs.fit(tr_x, tr_y)"
   ]
  },
  {
   "cell_type": "code",
   "execution_count": 22,
   "id": "german-headset",
   "metadata": {},
   "outputs": [
    {
     "name": "stdout",
     "output_type": "stream",
     "text": [
      "best pararms are {'early_stopping_rounds': 80, 'leaning_rate': 0.34780176766029813, 'max_depth': 120, 'n_estimators': 35, 'random_state': 1}\n",
      "best score is 0.7375356125356125\n"
     ]
    }
   ],
   "source": [
    "print(f'best pararms are {rs.best_params_}')\n",
    "print(f'best score is {rs.best_score_}')"
   ]
  },
  {
   "cell_type": "code",
   "execution_count": 23,
   "id": "sharp-message",
   "metadata": {},
   "outputs": [],
   "source": [
    "model_best = rs.best_estimator_\n",
    "preds = model_best.predict(test_x)"
   ]
  },
  {
   "cell_type": "code",
   "execution_count": 24,
   "id": "difficult-desert",
   "metadata": {},
   "outputs": [],
   "source": [
    "index = test_x.index.to_numpy().reshape(-1, 1)\n",
    "preds = preds.reshape(-1, 1)\n",
    "submission = np.concatenate((index, preds), axis=1)\n",
    "submission = pd.DataFrame(submission)"
   ]
  },
  {
   "cell_type": "code",
   "execution_count": 25,
   "id": "choice-harbor",
   "metadata": {},
   "outputs": [],
   "source": [
    "submission.to_csv('xgb_rs.csv', index=False, header=False)"
   ]
  },
  {
   "cell_type": "markdown",
   "id": "frozen-locator",
   "metadata": {},
   "source": [
    "#### HyperOpt"
   ]
  },
  {
   "cell_type": "code",
   "execution_count": 101,
   "id": "illegal-enzyme",
   "metadata": {},
   "outputs": [],
   "source": [
    "tr_x = train_x[:80]\n",
    "va_x = train_x[80:]\n",
    "tr_y = train_y[:80]\n",
    "va_y = train_y[80:]"
   ]
  },
  {
   "cell_type": "code",
   "execution_count": 102,
   "id": "smoking-radiation",
   "metadata": {},
   "outputs": [],
   "source": [
    "from sklearn.metrics import log_loss\n",
    "from hyperopt import fmin, tpe, hp, STATUS_OK, Trials"
   ]
  },
  {
   "cell_type": "code",
   "execution_count": 113,
   "id": "funky-trinity",
   "metadata": {},
   "outputs": [],
   "source": [
    "def score(params):\n",
    "    params['max_depth'] = int(params['max_depth'])\n",
    "    \n",
    "    model = XGB()\n",
    "    model.fit(tr_x, tr_y)\n",
    "    va_pred = model.predict_proba(va_x)\n",
    "    # print(f'va_y: {va_y_}')\n",
    "    # print(f'va_pred: {va_pred}')\n",
    "    score = log_loss(va_y_, va_pred)\n",
    "    print(f'params: {params}, logloss:{score:.4f}')\n",
    "    \n",
    "    history.append((params, score))\n",
    "    return {'loss': score, 'status': STATUS_OK}"
   ]
  },
  {
   "cell_type": "code",
   "execution_count": 114,
   "id": "expressed-dover",
   "metadata": {},
   "outputs": [],
   "source": [
    "space = {\n",
    "    'random_state': hp.choice('random_state', [1]),\n",
    "    'learning_rate': hp.choice('learning_rate', [0.1]),\n",
    "    'n_estimators': hp.choice('n_estimators', [1000]),\n",
    "    'early_stopping_rounds': hp.choice('early_stopping_rounds', [50]),\n",
    "    'max_depth': hp.quniform('max_depth', 0, 100, 5),\n",
    "    'min_child_weight': hp.uniform('min_child_weight', 0, 10),\n",
    "    'gamma': hp.uniform('gamma', 0, 10),\n",
    "    'alpha': hp.uniform('alpha', 0, 10),\n",
    "    'subsample': hp.quniform('subsample', 0, 1, 0.1),\n",
    "    'colsample': hp.quniform('colsample', 0, 1, 0.1),\n",
    "    'lambda': hp.uniform('lambda', 0, 10)\n",
    "}"
   ]
  },
  {
   "cell_type": "code",
   "execution_count": 115,
   "id": "vulnerable-portsmouth",
   "metadata": {},
   "outputs": [],
   "source": [
    "transformed = [transform_labels(i) for i in va_y]\n",
    "va_y_ = np.identity(len(tr_y.unique()))[transformed]"
   ]
  },
  {
   "cell_type": "code",
   "execution_count": 116,
   "id": "individual-alias",
   "metadata": {},
   "outputs": [
    {
     "name": "stdout",
     "output_type": "stream",
     "text": [
      "params: {'alpha': 0.6605658326192843, 'colsample': 0.6000000000000001, 'early_stopping_rounds': 50, 'gamma': 5.278539945811328, 'lambda': 1.0359340786848847, 'learning_rate': 0.1, 'max_depth': 30, 'min_child_weight': 3.413727471698629, 'n_estimators': 1000, 'random_state': 1, 'subsample': 0.6000000000000001}, logloss:1.7010\n",
      "params: {'alpha': 8.023814148555928, 'colsample': 0.30000000000000004, 'early_stopping_rounds': 50, 'gamma': 0.05665840176819925, 'lambda': 2.3110420951720023, 'learning_rate': 0.1, 'max_depth': 65, 'min_child_weight': 5.697685061365114, 'n_estimators': 1000, 'random_state': 1, 'subsample': 0.8}, logloss:1.7010\n",
      "params: {'alpha': 5.920079530035012, 'colsample': 0.7000000000000001, 'early_stopping_rounds': 50, 'gamma': 8.875089055166974, 'lambda': 1.938897811781054, 'learning_rate': 0.1, 'max_depth': 40, 'min_child_weight': 4.094687308073848, 'n_estimators': 1000, 'random_state': 1, 'subsample': 1.0}, logloss:1.7010\n",
      "params: {'alpha': 2.1425664460315472, 'colsample': 0.5, 'early_stopping_rounds': 50, 'gamma': 8.272182760842508, 'lambda': 9.521899462192689, 'learning_rate': 0.1, 'max_depth': 40, 'min_child_weight': 4.352909678658143, 'n_estimators': 1000, 'random_state': 1, 'subsample': 0.4}, logloss:1.7010\n",
      "params: {'alpha': 2.0616234353633054, 'colsample': 0.7000000000000001, 'early_stopping_rounds': 50, 'gamma': 7.464935218814767, 'lambda': 4.236767357304551, 'learning_rate': 0.1, 'max_depth': 10, 'min_child_weight': 3.887167737646333, 'n_estimators': 1000, 'random_state': 1, 'subsample': 0.6000000000000001}, logloss:1.7010\n",
      "params: {'alpha': 7.761056830209179, 'colsample': 0.9, 'early_stopping_rounds': 50, 'gamma': 2.9751057082822383, 'lambda': 9.116340198566261, 'learning_rate': 0.1, 'max_depth': 40, 'min_child_weight': 2.580072407714008, 'n_estimators': 1000, 'random_state': 1, 'subsample': 0.30000000000000004}, logloss:1.7010\n",
      "params: {'alpha': 0.17022607621452246, 'colsample': 0.2, 'early_stopping_rounds': 50, 'gamma': 1.1627584360395282, 'lambda': 6.541313187597608, 'learning_rate': 0.1, 'max_depth': 75, 'min_child_weight': 3.493494892576625, 'n_estimators': 1000, 'random_state': 1, 'subsample': 0.7000000000000001}, logloss:1.7010\n",
      "params: {'alpha': 5.455830757374724, 'colsample': 0.2, 'early_stopping_rounds': 50, 'gamma': 1.5162871465583527, 'lambda': 3.6985514414121767, 'learning_rate': 0.1, 'max_depth': 55, 'min_child_weight': 4.31367221240257, 'n_estimators': 1000, 'random_state': 1, 'subsample': 0.8}, logloss:1.7010\n",
      "params: {'alpha': 6.666186441762692, 'colsample': 0.7000000000000001, 'early_stopping_rounds': 50, 'gamma': 1.7097959554266429, 'lambda': 5.796589850551152, 'learning_rate': 0.1, 'max_depth': 50, 'min_child_weight': 2.727772772594613, 'n_estimators': 1000, 'random_state': 1, 'subsample': 0.1}, logloss:1.7010\n",
      "params: {'alpha': 8.984209718222594, 'colsample': 0.8, 'early_stopping_rounds': 50, 'gamma': 6.638958801565272, 'lambda': 9.820072431773866, 'learning_rate': 0.1, 'max_depth': 15, 'min_child_weight': 9.703132051191526, 'n_estimators': 1000, 'random_state': 1, 'subsample': 0.7000000000000001}, logloss:1.7010\n",
      "params: {'alpha': 2.3786342912969802, 'colsample': 0.6000000000000001, 'early_stopping_rounds': 50, 'gamma': 4.849280321446648, 'lambda': 2.328943468361432, 'learning_rate': 0.1, 'max_depth': 50, 'min_child_weight': 7.745447022981012, 'n_estimators': 1000, 'random_state': 1, 'subsample': 0.2}, logloss:1.7010\n",
      "params: {'alpha': 4.361360235934722, 'colsample': 0.7000000000000001, 'early_stopping_rounds': 50, 'gamma': 0.19096805231038183, 'lambda': 5.5132282705431574, 'learning_rate': 0.1, 'max_depth': 60, 'min_child_weight': 4.8806493298150455, 'n_estimators': 1000, 'random_state': 1, 'subsample': 0.4}, logloss:1.7010\n",
      "params: {'alpha': 2.314247949278676, 'colsample': 0.1, 'early_stopping_rounds': 50, 'gamma': 7.429967408566266, 'lambda': 6.454321813778537, 'learning_rate': 0.1, 'max_depth': 35, 'min_child_weight': 6.0333862856959355, 'n_estimators': 1000, 'random_state': 1, 'subsample': 0.8}, logloss:1.7010\n",
      "params: {'alpha': 7.507405416265645, 'colsample': 1.0, 'early_stopping_rounds': 50, 'gamma': 1.32387636126851, 'lambda': 2.8541220507530918, 'learning_rate': 0.1, 'max_depth': 45, 'min_child_weight': 6.921691327585746, 'n_estimators': 1000, 'random_state': 1, 'subsample': 0.2}, logloss:1.7010\n",
      "params: {'alpha': 7.783080042538188, 'colsample': 0.2, 'early_stopping_rounds': 50, 'gamma': 5.285651379116418, 'lambda': 8.137712338630932, 'learning_rate': 0.1, 'max_depth': 65, 'min_child_weight': 5.862820889752333, 'n_estimators': 1000, 'random_state': 1, 'subsample': 0.7000000000000001}, logloss:1.7010\n",
      "params: {'alpha': 8.455317592741018, 'colsample': 1.0, 'early_stopping_rounds': 50, 'gamma': 5.1187156965929965, 'lambda': 4.169895564246816, 'learning_rate': 0.1, 'max_depth': 65, 'min_child_weight': 3.1022138294433144, 'n_estimators': 1000, 'random_state': 1, 'subsample': 0.30000000000000004}, logloss:1.7010\n",
      "params: {'alpha': 8.50811034886716, 'colsample': 0.5, 'early_stopping_rounds': 50, 'gamma': 2.3618871484151582, 'lambda': 3.6182257467929424, 'learning_rate': 0.1, 'max_depth': 35, 'min_child_weight': 7.403851233898498, 'n_estimators': 1000, 'random_state': 1, 'subsample': 1.0}, logloss:1.7010\n",
      "params: {'alpha': 7.413652062330911, 'colsample': 0.4, 'early_stopping_rounds': 50, 'gamma': 2.4172066971932504, 'lambda': 2.744097317796139, 'learning_rate': 0.1, 'max_depth': 15, 'min_child_weight': 5.6044919353242095, 'n_estimators': 1000, 'random_state': 1, 'subsample': 0.0}, logloss:1.7010\n",
      "params: {'alpha': 5.0953576838666255, 'colsample': 0.4, 'early_stopping_rounds': 50, 'gamma': 1.2813217501264962, 'lambda': 0.640896164881043, 'learning_rate': 0.1, 'max_depth': 60, 'min_child_weight': 3.4461089685106625, 'n_estimators': 1000, 'random_state': 1, 'subsample': 0.2}, logloss:1.7010\n",
      "params: {'alpha': 6.790295300150964, 'colsample': 0.9, 'early_stopping_rounds': 50, 'gamma': 9.996798914537159, 'lambda': 7.129591271118912, 'learning_rate': 0.1, 'max_depth': 90, 'min_child_weight': 5.906816041808847, 'n_estimators': 1000, 'random_state': 1, 'subsample': 0.1}, logloss:1.7010\n",
      "params: {'alpha': 9.709300903740061, 'colsample': 0.4, 'early_stopping_rounds': 50, 'gamma': 3.764016562590575, 'lambda': 0.8720922511860552, 'learning_rate': 0.1, 'max_depth': 20, 'min_child_weight': 0.3996923860035482, 'n_estimators': 1000, 'random_state': 1, 'subsample': 0.5}, logloss:1.7010\n",
      "params: {'alpha': 4.27523483518246, 'colsample': 0.4, 'early_stopping_rounds': 50, 'gamma': 4.0371726037635245, 'lambda': 0.23448434486537428, 'learning_rate': 0.1, 'max_depth': 0, 'min_child_weight': 1.4454118001088707, 'n_estimators': 1000, 'random_state': 1, 'subsample': 0.5}, logloss:1.7010\n",
      "params: {'alpha': 0.9918942667777355, 'colsample': 0.9, 'early_stopping_rounds': 50, 'gamma': 9.702674115493648, 'lambda': 7.750216849770053, 'learning_rate': 0.1, 'max_depth': 95, 'min_child_weight': 1.6236899453812927, 'n_estimators': 1000, 'random_state': 1, 'subsample': 0.0}, logloss:1.7010\n",
      "params: {'alpha': 9.719583665747544, 'colsample': 0.6000000000000001, 'early_stopping_rounds': 50, 'gamma': 3.753596600166963, 'lambda': 1.1311004489127807, 'learning_rate': 0.1, 'max_depth': 25, 'min_child_weight': 0.04493407328246202, 'n_estimators': 1000, 'random_state': 1, 'subsample': 0.5}, logloss:1.7010\n",
      "params: {'alpha': 3.8740166270972436, 'colsample': 0.0, 'early_stopping_rounds': 50, 'gamma': 6.065854313397917, 'lambda': 0.31243233198800086, 'learning_rate': 0.1, 'max_depth': 5, 'min_child_weight': 0.9784616586054549, 'n_estimators': 1000, 'random_state': 1, 'subsample': 0.6000000000000001}, logloss:1.7010\n",
      "params: {'alpha': 0.590112759735163, 'colsample': 0.9, 'early_stopping_rounds': 50, 'gamma': 9.315498191791448, 'lambda': 7.95664104717843, 'learning_rate': 0.1, 'max_depth': 95, 'min_child_weight': 1.8234660433088283, 'n_estimators': 1000, 'random_state': 1, 'subsample': 0.9}, logloss:1.7010\n",
      "params: {'alpha': 3.179540185891706, 'colsample': 0.6000000000000001, 'early_stopping_rounds': 50, 'gamma': 3.948031743831157, 'lambda': 1.0944775450899051, 'learning_rate': 0.1, 'max_depth': 25, 'min_child_weight': 0.36867057495060274, 'n_estimators': 1000, 'random_state': 1, 'subsample': 0.6000000000000001}, logloss:1.7010\n",
      "params: {'alpha': 3.3641356167952505, 'colsample': 0.0, 'early_stopping_rounds': 50, 'gamma': 6.19550606883087, 'lambda': 0.29485773240538027, 'learning_rate': 0.1, 'max_depth': 5, 'min_child_weight': 0.9840675610471995, 'n_estimators': 1000, 'random_state': 1, 'subsample': 0.6000000000000001}, logloss:1.7010\n",
      "params: {'alpha': 0.07078905687850767, 'colsample': 0.9, 'early_stopping_rounds': 50, 'gamma': 8.996442478393774, 'lambda': 8.404790142285494, 'learning_rate': 0.1, 'max_depth': 80, 'min_child_weight': 2.1269173527886935, 'n_estimators': 1000, 'random_state': 1, 'subsample': 0.9}, logloss:1.7010\n",
      "params: {'alpha': 1.1076764230614469, 'colsample': 0.6000000000000001, 'early_stopping_rounds': 50, 'gamma': 3.300008219734971, 'lambda': 1.8756121065767761, 'learning_rate': 0.1, 'max_depth': 25, 'min_child_weight': 9.875927305451675, 'n_estimators': 1000, 'random_state': 1, 'subsample': 0.4}, logloss:1.7010\n",
      "params: {'alpha': 3.2780158443881056, 'colsample': 0.30000000000000004, 'early_stopping_rounds': 50, 'gamma': 6.5002606198740605, 'lambda': 1.7042587919052221, 'learning_rate': 0.1, 'max_depth': 5, 'min_child_weight': 0.94177845130565, 'n_estimators': 1000, 'random_state': 1, 'subsample': 0.6000000000000001}, logloss:1.7010\n",
      "params: {'alpha': 1.5731837640413537, 'colsample': 0.8, 'early_stopping_rounds': 50, 'gamma': 8.798969276240678, 'lambda': 8.747896122521299, 'learning_rate': 0.1, 'max_depth': 80, 'min_child_weight': 2.2875331735077173, 'n_estimators': 1000, 'random_state': 1, 'subsample': 0.9}, logloss:1.7010\n",
      "params: {'alpha': 0.6790613482460492, 'colsample': 0.5, 'early_stopping_rounds': 50, 'gamma': 2.998868402756124, 'lambda': 1.423821467988566, 'learning_rate': 0.1, 'max_depth': 30, 'min_child_weight': 9.86150590948211, 'n_estimators': 1000, 'random_state': 1, 'subsample': 0.4}, logloss:1.7010\n",
      "params: {'alpha': 2.960613946357148, 'colsample': 0.30000000000000004, 'early_stopping_rounds': 50, 'gamma': 7.708513063658247, 'lambda': 4.713747082571673, 'learning_rate': 0.1, 'max_depth': 0, 'min_child_weight': 4.864210039317691, 'n_estimators': 1000, 'random_state': 1, 'subsample': 0.7000000000000001}, logloss:1.7010\n",
      "params: {'alpha': 1.5024076785489446, 'colsample': 0.8, 'early_stopping_rounds': 50, 'gamma': 8.333920561895807, 'lambda': 7.127725481912675, 'learning_rate': 0.1, 'max_depth': 80, 'min_child_weight': 2.352849171720236, 'n_estimators': 1000, 'random_state': 1, 'subsample': 0.9}, logloss:1.7010\n",
      "params: {'alpha': 6.301520411296194, 'colsample': 0.7000000000000001, 'early_stopping_rounds': 50, 'gamma': 9.830545107212714, 'lambda': 7.3320459284727155, 'learning_rate': 0.1, 'max_depth': 100, 'min_child_weight': 8.841153896372006, 'n_estimators': 1000, 'random_state': 1, 'subsample': 0.1}, logloss:1.7010\n",
      "params: {'alpha': 9.687752453000725, 'colsample': 0.4, 'early_stopping_rounds': 50, 'gamma': 0.14849252944405578, 'lambda': 3.148973076017912, 'learning_rate': 0.1, 'max_depth': 15, 'min_child_weight': 0.201833262281509, 'n_estimators': 1000, 'random_state': 1, 'subsample': 0.5}, logloss:1.7010\n",
      "params: {'alpha': 5.603981054646765, 'colsample': 0.1, 'early_stopping_rounds': 50, 'gamma': 4.578727386198356, 'lambda': 2.3165243949942145, 'learning_rate': 0.1, 'max_depth': 20, 'min_child_weight': 3.8005622410249322, 'n_estimators': 1000, 'random_state': 1, 'subsample': 0.30000000000000004}, logloss:1.7010\n",
      "params: {'alpha': 4.4993464593359, 'colsample': 0.5, 'early_stopping_rounds': 50, 'gamma': 5.595117841710862, 'lambda': 0.13673385164136231, 'learning_rate': 0.1, 'max_depth': 0, 'min_child_weight': 2.904875576915717, 'n_estimators': 1000, 'random_state': 1, 'subsample': 0.5}, logloss:1.7010\n",
      "params: {'alpha': 4.044507987677855, 'colsample': 0.30000000000000004, 'early_stopping_rounds': 50, 'gamma': 4.195868445648559, 'lambda': 4.89120330241014, 'learning_rate': 0.1, 'max_depth': 45, 'min_child_weight': 1.4673096070098524, 'n_estimators': 1000, 'random_state': 1, 'subsample': 0.4}, logloss:1.7010\n",
      "params: {'alpha': 0.005659469772453463, 'colsample': 0.8, 'early_stopping_rounds': 50, 'gamma': 7.139920554797592, 'lambda': 9.974874135106807, 'learning_rate': 0.1, 'max_depth': 70, 'min_child_weight': 4.393613511521946, 'n_estimators': 1000, 'random_state': 1, 'subsample': 0.0}, logloss:1.7010\n",
      "params: {'alpha': 1.7361700048803477, 'colsample': 1.0, 'early_stopping_rounds': 50, 'gamma': 9.604956248724438, 'lambda': 5.687200764761946, 'learning_rate': 0.1, 'max_depth': 55, 'min_child_weight': 3.3424504505777013, 'n_estimators': 1000, 'random_state': 1, 'subsample': 0.8}, logloss:1.7010\n",
      "params: {'alpha': 9.18934157474555, 'colsample': 0.6000000000000001, 'early_stopping_rounds': 50, 'gamma': 0.6873981759325862, 'lambda': 1.2850824037439583, 'learning_rate': 0.1, 'max_depth': 35, 'min_child_weight': 6.793089264836516, 'n_estimators': 1000, 'random_state': 1, 'subsample': 0.30000000000000004}, logloss:1.7010\n",
      "params: {'alpha': 6.938434850258779, 'colsample': 0.6000000000000001, 'early_stopping_rounds': 50, 'gamma': 2.082434562293334, 'lambda': 3.567998624620333, 'learning_rate': 0.1, 'max_depth': 40, 'min_child_weight': 8.15827112523969, 'n_estimators': 1000, 'random_state': 1, 'subsample': 0.7000000000000001}, logloss:1.7010\n",
      "params: {'alpha': 3.8045983634474814, 'colsample': 0.1, 'early_stopping_rounds': 50, 'gamma': 5.621459703551155, 'lambda': 4.195714169807896, 'learning_rate': 0.1, 'max_depth': 10, 'min_child_weight': 1.0825845660842552, 'n_estimators': 1000, 'random_state': 1, 'subsample': 0.6000000000000001}, logloss:1.7010\n",
      "params: {'alpha': 2.533255629407374, 'colsample': 0.0, 'early_stopping_rounds': 50, 'gamma': 6.049913112317578, 'lambda': 2.651556055701233, 'learning_rate': 0.1, 'max_depth': 10, 'min_child_weight': 3.862137689806652, 'n_estimators': 1000, 'random_state': 1, 'subsample': 0.8}, logloss:1.7010\n",
      "params: {'alpha': 0.4407627325252266, 'colsample': 0.7000000000000001, 'early_stopping_rounds': 50, 'gamma': 7.936326981775002, 'lambda': 6.128598234510928, 'learning_rate': 0.1, 'max_depth': 90, 'min_child_weight': 4.907060860318742, 'n_estimators': 1000, 'random_state': 1, 'subsample': 0.9}, logloss:1.7010\n",
      "params: {'alpha': 2.7395124074547326, 'colsample': 1.0, 'early_stopping_rounds': 50, 'gamma': 6.910032049898213, 'lambda': 5.34359268251362, 'learning_rate': 0.1, 'max_depth': 45, 'min_child_weight': 1.846707167837152, 'n_estimators': 1000, 'random_state': 1, 'subsample': 1.0}, logloss:1.7010\n",
      "params: {'alpha': 2.185382137488167, 'colsample': 0.5, 'early_stopping_rounds': 50, 'gamma': 4.628285176018225, 'lambda': 0.7208022352106452, 'learning_rate': 0.1, 'max_depth': 30, 'min_child_weight': 0.5107022929150439, 'n_estimators': 1000, 'random_state': 1, 'subsample': 0.7000000000000001}, logloss:1.7010\n",
      "params: {'alpha': 1.920202738621921, 'colsample': 0.6000000000000001, 'early_stopping_rounds': 50, 'gamma': 3.25006189115743, 'lambda': 2.1097021678292287, 'learning_rate': 0.1, 'max_depth': 55, 'min_child_weight': 5.346844428576623, 'n_estimators': 1000, 'random_state': 1, 'subsample': 0.6000000000000001}, logloss:1.7010\n",
      "params: {'alpha': 4.954160570512365, 'colsample': 0.2, 'early_stopping_rounds': 50, 'gamma': 6.366042191098489, 'lambda': 0.0016028982493188626, 'learning_rate': 0.1, 'max_depth': 5, 'min_child_weight': 4.389228111466075, 'n_estimators': 1000, 'random_state': 1, 'subsample': 0.8}, logloss:1.7010\n",
      "params: {'alpha': 3.407125216038692, 'colsample': 0.2, 'early_stopping_rounds': 50, 'gamma': 5.538482535439998, 'lambda': 3.119412872846217, 'learning_rate': 0.1, 'max_depth': 20, 'min_child_weight': 2.711386822416595, 'n_estimators': 1000, 'random_state': 1, 'subsample': 0.7000000000000001}, logloss:1.7010\n",
      "params: {'alpha': 0.01112695855841192, 'colsample': 0.8, 'early_stopping_rounds': 50, 'gamma': 8.054183642649562, 'lambda': 9.05409092063726, 'learning_rate': 0.1, 'max_depth': 70, 'min_child_weight': 6.561416479075932, 'n_estimators': 1000, 'random_state': 1, 'subsample': 1.0}, logloss:1.7010\n",
      "params: {'alpha': 1.1646408212837525, 'colsample': 0.9, 'early_stopping_rounds': 50, 'gamma': 8.740649522249317, 'lambda': 8.447650708394292, 'learning_rate': 0.1, 'max_depth': 80, 'min_child_weight': 2.170385202099638, 'n_estimators': 1000, 'random_state': 1, 'subsample': 0.8}, logloss:1.7010\n",
      "params: {'alpha': 1.2657844649697654, 'colsample': 0.7000000000000001, 'early_stopping_rounds': 50, 'gamma': 3.33217457196886, 'lambda': 4.533856351059565, 'learning_rate': 0.1, 'max_depth': 40, 'min_child_weight': 9.07505487088091, 'n_estimators': 1000, 'random_state': 1, 'subsample': 0.4}, logloss:1.7010\n",
      "params: {'alpha': 0.9096392328250518, 'colsample': 0.7000000000000001, 'early_stopping_rounds': 50, 'gamma': 0.7230011218743462, 'lambda': 1.7913394368606728, 'learning_rate': 0.1, 'max_depth': 30, 'min_child_weight': 7.394509373308649, 'n_estimators': 1000, 'random_state': 1, 'subsample': 0.2}, logloss:1.7010\n",
      "params: {'alpha': 4.758754342610881, 'colsample': 0.4, 'early_stopping_rounds': 50, 'gamma': 6.749112653258692, 'lambda': 1.5856916140033126, 'learning_rate': 0.1, 'max_depth': 15, 'min_child_weight': 0.7205064018264378, 'n_estimators': 1000, 'random_state': 1, 'subsample': 0.6000000000000001}, logloss:1.7010\n",
      "params: {'alpha': 5.3682020924300815, 'colsample': 0.30000000000000004, 'early_stopping_rounds': 50, 'gamma': 7.204852435945133, 'lambda': 3.8678222536765663, 'learning_rate': 0.1, 'max_depth': 5, 'min_child_weight': 3.2400111684893163, 'n_estimators': 1000, 'random_state': 1, 'subsample': 0.30000000000000004}, logloss:1.7010\n",
      "params: {'alpha': 0.2574573890604035, 'colsample': 0.8, 'early_stopping_rounds': 50, 'gamma': 8.831477904346686, 'lambda': 9.698559362222195, 'learning_rate': 0.1, 'max_depth': 60, 'min_child_weight': 4.17043417877999, 'n_estimators': 1000, 'random_state': 1, 'subsample': 1.0}, logloss:1.7010\n",
      "params: {'alpha': 1.8808383620360614, 'colsample': 0.8, 'early_stopping_rounds': 50, 'gamma': 8.547648036122325, 'lambda': 9.369514343312042, 'learning_rate': 0.1, 'max_depth': 85, 'min_child_weight': 5.297399574181287, 'n_estimators': 1000, 'random_state': 1, 'subsample': 0.9}, logloss:1.7010\n",
      "params: {'alpha': 0.775626311442026, 'colsample': 0.5, 'early_stopping_rounds': 50, 'gamma': 2.6623216304225306, 'lambda': 1.3328508505557257, 'learning_rate': 0.1, 'max_depth': 30, 'min_child_weight': 8.953800119250607, 'n_estimators': 1000, 'random_state': 1, 'subsample': 0.4}, logloss:1.7010\n",
      "params: {'alpha': 5.9782566916416275, 'colsample': 0.5, 'early_stopping_rounds': 50, 'gamma': 1.838040017922041, 'lambda': 3.2727303169047772, 'learning_rate': 0.1, 'max_depth': 50, 'min_child_weight': 9.475144981639671, 'n_estimators': 1000, 'random_state': 1, 'subsample': 0.2}, logloss:1.7010\n",
      "params: {'alpha': 2.9632298379188393, 'colsample': 0.2, 'early_stopping_rounds': 50, 'gamma': 7.658777161474795, 'lambda': 6.314333027975789, 'learning_rate': 0.1, 'max_depth': 0, 'min_child_weight': 6.208629521135331, 'n_estimators': 1000, 'random_state': 1, 'subsample': 0.7000000000000001}, logloss:1.7010\n",
      "params: {'alpha': 2.86556419300734, 'colsample': 0.30000000000000004, 'early_stopping_rounds': 50, 'gamma': 5.059437543411076, 'lambda': 6.7621311282872405, 'learning_rate': 0.1, 'max_depth': 35, 'min_child_weight': 4.676847124036975, 'n_estimators': 1000, 'random_state': 1, 'subsample': 0.7000000000000001}, logloss:1.7010\n",
      "params: {'alpha': 1.3075633064091625, 'colsample': 0.9, 'early_stopping_rounds': 50, 'gamma': 9.176749233832979, 'lambda': 7.631750186462667, 'learning_rate': 0.1, 'max_depth': 70, 'min_child_weight': 3.670579934785032, 'n_estimators': 1000, 'random_state': 1, 'subsample': 0.9}, logloss:1.7010\n",
      "params: {'alpha': 6.3480152598283, 'colsample': 0.7000000000000001, 'early_stopping_rounds': 50, 'gamma': 9.974740005831727, 'lambda': 7.197154338073393, 'learning_rate': 0.1, 'max_depth': 100, 'min_child_weight': 2.365775147357666, 'n_estimators': 1000, 'random_state': 1, 'subsample': 0.2}, logloss:1.7010\n",
      "params: {'alpha': 8.055786570497585, 'colsample': 0.4, 'early_stopping_rounds': 50, 'gamma': 0.8040783423310989, 'lambda': 2.9352033302936187, 'learning_rate': 0.1, 'max_depth': 15, 'min_child_weight': 8.155623653356615, 'n_estimators': 1000, 'random_state': 1, 'subsample': 0.1}, logloss:1.7010\n",
      "params: {'alpha': 9.29063525354964, 'colsample': 0.6000000000000001, 'early_stopping_rounds': 50, 'gamma': 1.0108565784442223, 'lambda': 6.044631413427191, 'learning_rate': 0.1, 'max_depth': 10, 'min_child_weight': 8.599066937053802, 'n_estimators': 1000, 'random_state': 1, 'subsample': 0.5}, logloss:1.7010\n",
      "params: {'alpha': 7.187276974076781, 'colsample': 0.1, 'early_stopping_rounds': 50, 'gamma': 0.12716445647625066, 'lambda': 2.4371015517598673, 'learning_rate': 0.1, 'max_depth': 20, 'min_child_weight': 0.032577860282477555, 'n_estimators': 1000, 'random_state': 1, 'subsample': 0.30000000000000004}, logloss:1.7010\n",
      "params: {'alpha': 8.45991617304058, 'colsample': 0.1, 'early_stopping_rounds': 50, 'gamma': 4.399049386974071, 'lambda': 0.5550198613506315, 'learning_rate': 0.1, 'max_depth': 20, 'min_child_weight': 2.997618611980066, 'n_estimators': 1000, 'random_state': 1, 'subsample': 0.5}, logloss:1.7010\n",
      "params: {'alpha': 5.748961895699415, 'colsample': 0.5, 'early_stopping_rounds': 50, 'gamma': 5.588058876241923, 'lambda': 0.01210034394952042, 'learning_rate': 0.1, 'max_depth': 20, 'min_child_weight': 3.8620372048307696, 'n_estimators': 1000, 'random_state': 1, 'subsample': 0.30000000000000004}, logloss:1.7010\n",
      "params: {'alpha': 5.165932879628478, 'colsample': 0.6000000000000001, 'early_stopping_rounds': 50, 'gamma': 3.4871463031072514, 'lambda': 0.9208947374701297, 'learning_rate': 0.1, 'max_depth': 55, 'min_child_weight': 5.255726851269117, 'n_estimators': 1000, 'random_state': 1, 'subsample': 0.8}, logloss:1.7010\n",
      "params: {'alpha': 3.552584250658705, 'colsample': 0.2, 'early_stopping_rounds': 50, 'gamma': 5.369441479756551, 'lambda': 2.0788572025915237, 'learning_rate': 0.1, 'max_depth': 25, 'min_child_weight': 2.6767359327285396, 'n_estimators': 1000, 'random_state': 1, 'subsample': 0.8}, logloss:1.7010\n",
      "params: {'alpha': 4.717534549739842, 'colsample': 0.2, 'early_stopping_rounds': 50, 'gamma': 6.483929827843909, 'lambda': 0.550628639162813, 'learning_rate': 0.1, 'max_depth': 10, 'min_child_weight': 4.655882259670298, 'n_estimators': 1000, 'random_state': 1, 'subsample': 0.6000000000000001}, logloss:1.7010\n",
      "params: {'alpha': 0.32559045019864064, 'colsample': 0.8, 'early_stopping_rounds': 50, 'gamma': 7.987508366996651, 'lambda': 5.326707691192697, 'learning_rate': 0.1, 'max_depth': 75, 'min_child_weight': 6.167234316133564, 'n_estimators': 1000, 'random_state': 1, 'subsample': 1.0}, logloss:1.7010\n",
      "params: {'alpha': 0.007245570564251347, 'colsample': 0.9, 'early_stopping_rounds': 50, 'gamma': 8.189412125303978, 'lambda': 8.764947527913383, 'learning_rate': 0.1, 'max_depth': 70, 'min_child_weight': 7.041731611598063, 'n_estimators': 1000, 'random_state': 1, 'subsample': 1.0}, logloss:1.7010\n",
      "params: {'alpha': 1.3480339978422586, 'colsample': 0.7000000000000001, 'early_stopping_rounds': 50, 'gamma': 3.683602074407153, 'lambda': 4.753122029856399, 'learning_rate': 0.1, 'max_depth': 40, 'min_child_weight': 1.9964275933772324, 'n_estimators': 1000, 'random_state': 1, 'subsample': 0.4}, logloss:1.7010\n",
      "params: {'alpha': 2.567913898547542, 'colsample': 1.0, 'early_stopping_rounds': 50, 'gamma': 2.5959311484297363, 'lambda': 4.45356884366468, 'learning_rate': 0.1, 'max_depth': 35, 'min_child_weight': 3.438031763767522, 'n_estimators': 1000, 'random_state': 1, 'subsample': 0.4}, logloss:1.7010\n",
      "params: {'alpha': 0.7533692308367897, 'colsample': 0.7000000000000001, 'early_stopping_rounds': 50, 'gamma': 0.45945955978983727, 'lambda': 3.8941218818743453, 'learning_rate': 0.1, 'max_depth': 45, 'min_child_weight': 7.449042093165717, 'n_estimators': 1000, 'random_state': 1, 'subsample': 0.1}, logloss:1.7010\n",
      "params: {'alpha': 4.221283772193786, 'colsample': 0.4, 'early_stopping_rounds': 50, 'gamma': 6.781917421924853, 'lambda': 1.7197699997872866, 'learning_rate': 0.1, 'max_depth': 25, 'min_child_weight': 0.6701703059540289, 'n_estimators': 1000, 'random_state': 1, 'subsample': 0.6000000000000001}, logloss:1.7010\n",
      "params: {'alpha': 5.2861560252704445, 'colsample': 0.30000000000000004, 'early_stopping_rounds': 50, 'gamma': 7.357142949010206, 'lambda': 3.899187206230046, 'learning_rate': 0.1, 'max_depth': 5, 'min_child_weight': 1.1323943379257413, 'n_estimators': 1000, 'random_state': 1, 'subsample': 0.5}, logloss:1.7010\n",
      "params: {'alpha': 8.025241460634533, 'colsample': 0.30000000000000004, 'early_stopping_rounds': 50, 'gamma': 5.9401293542142515, 'lambda': 5.141890543856276, 'learning_rate': 0.1, 'max_depth': 15, 'min_child_weight': 3.257737980950366, 'n_estimators': 1000, 'random_state': 1, 'subsample': 0.6000000000000001}, logloss:1.7010\n",
      "params: {'alpha': 6.0280055055283555, 'colsample': 0.4, 'early_stopping_rounds': 50, 'gamma': 7.271996000119744, 'lambda': 5.858618843934641, 'learning_rate': 0.1, 'max_depth': 60, 'min_child_weight': 4.107414112475028, 'n_estimators': 1000, 'random_state': 1, 'subsample': 0.30000000000000004}, logloss:1.7010\n",
      "params: {'alpha': 1.9269754533128483, 'colsample': 0.8, 'early_stopping_rounds': 50, 'gamma': 8.403984322427576, 'lambda': 9.902286911678903, 'learning_rate': 0.1, 'max_depth': 85, 'min_child_weight': 4.132993298660718, 'n_estimators': 1000, 'random_state': 1, 'subsample': 0.9}, logloss:1.7010\n",
      "params: {'alpha': 1.750883151122671, 'colsample': 0.5, 'early_stopping_rounds': 50, 'gamma': 1.6474704768362454, 'lambda': 9.482627598160882, 'learning_rate': 0.1, 'max_depth': 30, 'min_child_weight': 5.619959637676468, 'n_estimators': 1000, 'random_state': 1, 'subsample': 0.4}, logloss:1.7010\n",
      "params: {'alpha': 2.302626007533557, 'colsample': 0.6000000000000001, 'early_stopping_rounds': 50, 'gamma': 2.749110747464268, 'lambda': 1.2001265313720455, 'learning_rate': 0.1, 'max_depth': 40, 'min_child_weight': 8.144272650221005, 'n_estimators': 1000, 'random_state': 1, 'subsample': 0.4}, logloss:1.7010\n",
      "params: {'alpha': 7.468044487856494, 'colsample': 0.5, 'early_stopping_rounds': 50, 'gamma': 2.051674249682924, 'lambda': 2.6640240788023446, 'learning_rate': 0.1, 'max_depth': 50, 'min_child_weight': 9.278513813899872, 'n_estimators': 1000, 'random_state': 1, 'subsample': 0.2}, logloss:1.7010\n",
      "params: {'alpha': 6.500874145982088, 'colsample': 0.4, 'early_stopping_rounds': 50, 'gamma': 4.9243446805910684, 'lambda': 6.373336160834397, 'learning_rate': 0.1, 'max_depth': 50, 'min_child_weight': 6.256107900486566, 'n_estimators': 1000, 'random_state': 1, 'subsample': 0.7000000000000001}, logloss:1.7010\n",
      "params: {'alpha': 3.022417436032713, 'colsample': 0.0, 'early_stopping_rounds': 50, 'gamma': 5.096186498158641, 'lambda': 6.788216174127774, 'learning_rate': 0.1, 'max_depth': 35, 'min_child_weight': 4.701865463025559, 'n_estimators': 1000, 'random_state': 1, 'subsample': 0.7000000000000001}, logloss:1.7010\n",
      "params: {'alpha': 3.5906826921659882, 'colsample': 0.2, 'early_stopping_rounds': 50, 'gamma': 5.833616607196024, 'lambda': 6.580112028320527, 'learning_rate': 0.1, 'max_depth': 45, 'min_child_weight': 5.885030323570696, 'n_estimators': 1000, 'random_state': 1, 'subsample': 0.7000000000000001}, logloss:1.7010\n",
      "params: {'alpha': 0.49074280734236897, 'colsample': 0.9, 'early_stopping_rounds': 50, 'gamma': 9.232734418938112, 'lambda': 7.609077389299014, 'learning_rate': 0.1, 'max_depth': 75, 'min_child_weight': 3.5868767630640326, 'n_estimators': 1000, 'random_state': 1, 'subsample': 0.9}, logloss:1.7010\n",
      "params: {'alpha': 6.2737617129539345, 'colsample': 1.0, 'early_stopping_rounds': 50, 'gamma': 9.498564366437305, 'lambda': 7.979688092127507, 'learning_rate': 0.1, 'max_depth': 100, 'min_child_weight': 2.4303345567163084, 'n_estimators': 1000, 'random_state': 1, 'subsample': 0.1}, logloss:1.7010\n",
      "params: {'alpha': 8.169612819144607, 'colsample': 0.6000000000000001, 'early_stopping_rounds': 50, 'gamma': 2.996038564705058, 'lambda': 3.4462069136623734, 'learning_rate': 0.1, 'max_depth': 15, 'min_child_weight': 1.6008951003715504, 'n_estimators': 1000, 'random_state': 1, 'subsample': 0.1}, logloss:1.7010\n",
      "params: {'alpha': 8.842353417476541, 'colsample': 0.7000000000000001, 'early_stopping_rounds': 50, 'gamma': 9.98350716973059, 'lambda': 2.964612055541452, 'learning_rate': 0.1, 'max_depth': 25, 'min_child_weight': 2.8226863445000974, 'n_estimators': 1000, 'random_state': 1, 'subsample': 0.0}, logloss:1.7010\n",
      "params: {'alpha': 9.53751917402886, 'colsample': 0.4, 'early_stopping_rounds': 50, 'gamma': 2.254119041441488, 'lambda': 6.0105603811203885, 'learning_rate': 0.1, 'max_depth': 10, 'min_child_weight': 8.343467394114725, 'n_estimators': 1000, 'random_state': 1, 'subsample': 0.5}, logloss:1.7010\n",
      "params: {'alpha': 7.1005011225792565, 'colsample': 0.6000000000000001, 'early_stopping_rounds': 50, 'gamma': 0.9757330740717243, 'lambda': 2.398695516233316, 'learning_rate': 0.1, 'max_depth': 20, 'min_child_weight': 0.06777409947515997, 'n_estimators': 1000, 'random_state': 1, 'subsample': 0.5}, logloss:1.7010\n",
      "params: {'alpha': 8.627291440990662, 'colsample': 0.1, 'early_stopping_rounds': 50, 'gamma': 4.398304478747668, 'lambda': 0.4272903086335691, 'learning_rate': 0.1, 'max_depth': 25, 'min_child_weight': 3.0097101584383354, 'n_estimators': 1000, 'random_state': 1, 'subsample': 0.30000000000000004}, logloss:1.7010\n",
      "params: {'alpha': 7.73648090427945, 'colsample': 0.1, 'early_stopping_rounds': 50, 'gamma': 4.129855779545349, 'lambda': 0.7327777349022722, 'learning_rate': 0.1, 'max_depth': 20, 'min_child_weight': 1.222903452489689, 'n_estimators': 1000, 'random_state': 1, 'subsample': 0.5}, logloss:1.7010\n",
      "params: {'alpha': 9.931203398251785, 'colsample': 0.5, 'early_stopping_rounds': 50, 'gamma': 4.77450651231946, 'lambda': 0.14794796014852696, 'learning_rate': 0.1, 'max_depth': 30, 'min_child_weight': 5.0132341912059815, 'n_estimators': 1000, 'random_state': 1, 'subsample': 0.30000000000000004}, logloss:1.7010\n",
      "params: {'alpha': 5.555939121707605, 'colsample': 0.6000000000000001, 'early_stopping_rounds': 50, 'gamma': 3.5420790693800046, 'lambda': 0.8998843880464008, 'learning_rate': 0.1, 'max_depth': 55, 'min_child_weight': 5.171395201827115, 'n_estimators': 1000, 'random_state': 1, 'subsample': 0.8}, logloss:1.7010\n",
      "params: {'alpha': 3.6709862854258533, 'colsample': 0.6000000000000001, 'early_stopping_rounds': 50, 'gamma': 5.352730429284714, 'lambda': 2.0523210277916926, 'learning_rate': 0.1, 'max_depth': 60, 'min_child_weight': 6.54610947059176, 'n_estimators': 1000, 'random_state': 1, 'subsample': 0.8}, logloss:1.7010\n",
      "params: {'alpha': 4.053852444258977, 'colsample': 0.30000000000000004, 'early_stopping_rounds': 50, 'gamma': 6.236531203591972, 'lambda': 1.518954546208176, 'learning_rate': 0.1, 'max_depth': 65, 'min_child_weight': 2.593685548583433, 'n_estimators': 1000, 'random_state': 1, 'subsample': 0.8}, logloss:1.7010\n",
      "params: {'alpha': 4.739070280693979, 'colsample': 0.0, 'early_stopping_rounds': 50, 'gamma': 7.064891691684164, 'lambda': 1.0768691683989287, 'learning_rate': 0.1, 'max_depth': 10, 'min_child_weight': 1.326522857004548, 'n_estimators': 1000, 'random_state': 1, 'subsample': 0.6000000000000001}, logloss:1.7010\n",
      "params: {'alpha': 1.5775698403922305, 'colsample': 0.8, 'early_stopping_rounds': 50, 'gamma': 7.600754447909914, 'lambda': 5.174826887553512, 'learning_rate': 0.1, 'max_depth': 75, 'min_child_weight': 5.483524588165616, 'n_estimators': 1000, 'random_state': 1, 'subsample': 0.6000000000000001}, logloss:1.7010\n",
      "params: {'alpha': 0.3121517435737526, 'colsample': 1.0, 'early_stopping_rounds': 50, 'gamma': 7.99266654749192, 'lambda': 8.350710682573277, 'learning_rate': 0.1, 'max_depth': 95, 'min_child_weight': 6.979461314098461, 'n_estimators': 1000, 'random_state': 1, 'subsample': 1.0}, logloss:1.7010\n",
      "params: {'alpha': 0.9857279756630872, 'colsample': 0.9, 'early_stopping_rounds': 50, 'gamma': 8.455517568586368, 'lambda': 8.978548062221757, 'learning_rate': 0.1, 'max_depth': 85, 'min_child_weight': 7.71252211575098, 'n_estimators': 1000, 'random_state': 1, 'subsample': 1.0}, logloss:1.7010\n",
      "params: {'alpha': 1.4096482945574345, 'colsample': 0.7000000000000001, 'early_stopping_rounds': 50, 'gamma': 4.375811254705274, 'lambda': 4.853270489817275, 'learning_rate': 0.1, 'max_depth': 65, 'min_child_weight': 2.135917745480967, 'n_estimators': 1000, 'random_state': 1, 'subsample': 0.4}, logloss:1.7010\n",
      "params: {'alpha': 2.6581430668205916, 'colsample': 0.7000000000000001, 'early_stopping_rounds': 50, 'gamma': 3.592476558362129, 'lambda': 5.587513350977348, 'learning_rate': 0.1, 'max_depth': 35, 'min_child_weight': 1.8416948212883757, 'n_estimators': 1000, 'random_state': 1, 'subsample': 0.4}, logloss:1.7010\n",
      "params: {'alpha': 2.4639576047130904, 'colsample': 1.0, 'early_stopping_rounds': 50, 'gamma': 1.4022408216482527, 'lambda': 4.447990855004111, 'learning_rate': 0.1, 'max_depth': 45, 'min_child_weight': 7.312709556215864, 'n_estimators': 1000, 'random_state': 1, 'subsample': 0.2}, logloss:1.7010\n",
      "params: {'alpha': 0.7470055465726807, 'colsample': 1.0, 'early_stopping_rounds': 50, 'gamma': 0.4511441768430839, 'lambda': 3.738314393487774, 'learning_rate': 0.1, 'max_depth': 40, 'min_child_weight': 4.418057259856331, 'n_estimators': 1000, 'random_state': 1, 'subsample': 0.1}, logloss:1.7010\n",
      "params: {'alpha': 4.415737407504212, 'colsample': 0.4, 'early_stopping_rounds': 50, 'gamma': 6.732486798584369, 'lambda': 1.874322286279362, 'learning_rate': 0.1, 'max_depth': 45, 'min_child_weight': 0.8619461438289191, 'n_estimators': 1000, 'random_state': 1, 'subsample': 0.6000000000000001}, logloss:1.7010\n",
      "params: {'alpha': 5.281436556946684, 'colsample': 0.30000000000000004, 'early_stopping_rounds': 50, 'gamma': 7.4548082930416335, 'lambda': 3.281504439598704, 'learning_rate': 0.1, 'max_depth': 5, 'min_child_weight': 0.5025354614192974, 'n_estimators': 1000, 'random_state': 1, 'subsample': 0.5}, logloss:1.7010\n",
      "params: {'alpha': 7.795381439880321, 'colsample': 0.30000000000000004, 'early_stopping_rounds': 50, 'gamma': 5.857361184269924, 'lambda': 4.015083989861221, 'learning_rate': 0.1, 'max_depth': 5, 'min_child_weight': 3.289779557899568, 'n_estimators': 1000, 'random_state': 1, 'subsample': 0.5}, logloss:1.7010\n",
      "params: {'alpha': 6.7920259320585625, 'colsample': 0.30000000000000004, 'early_stopping_rounds': 50, 'gamma': 3.872783597388801, 'lambda': 5.1355488469331325, 'learning_rate': 0.1, 'max_depth': 0, 'min_child_weight': 3.145168652583942, 'n_estimators': 1000, 'random_state': 1, 'subsample': 0.6000000000000001}, logloss:1.7010\n",
      "params: {'alpha': 5.918987848332039, 'colsample': 0.4, 'early_stopping_rounds': 50, 'gamma': 6.003627310980329, 'lambda': 6.937132367801901, 'learning_rate': 0.1, 'max_depth': 60, 'min_child_weight': 4.056957924268957, 'n_estimators': 1000, 'random_state': 1, 'subsample': 0.30000000000000004}, logloss:1.7010\n",
      "params: {'alpha': 3.34379868582965, 'colsample': 0.8, 'early_stopping_rounds': 50, 'gamma': 8.909628841769582, 'lambda': 9.739796775228273, 'learning_rate': 0.1, 'max_depth': 85, 'min_child_weight': 4.047827681151388, 'n_estimators': 1000, 'random_state': 1, 'subsample': 0.9}, logloss:1.7010\n",
      "params: {'alpha': 2.0496129636300973, 'colsample': 0.5, 'early_stopping_rounds': 50, 'gamma': 1.6581938907739389, 'lambda': 9.265226417744632, 'learning_rate': 0.1, 'max_depth': 30, 'min_child_weight': 3.709596134366983, 'n_estimators': 1000, 'random_state': 1, 'subsample': 0.7000000000000001}, logloss:1.7010\n",
      "params: {'alpha': 1.758912035556445, 'colsample': 0.5, 'early_stopping_rounds': 50, 'gamma': 0.008139565678813465, 'lambda': 9.966569457596181, 'learning_rate': 0.1, 'max_depth': 55, 'min_child_weight': 5.785526142673013, 'n_estimators': 1000, 'random_state': 1, 'subsample': 0.4}, logloss:1.7010\n",
      "params: {'alpha': 2.2187913469445286, 'colsample': 0.6000000000000001, 'early_stopping_rounds': 50, 'gamma': 2.5236604020593205, 'lambda': 1.2997804275477503, 'learning_rate': 0.1, 'max_depth': 40, 'min_child_weight': 9.585349362320649, 'n_estimators': 1000, 'random_state': 1, 'subsample': 0.4}, logloss:1.7010\n",
      "params: {'alpha': 4.979923641958285, 'colsample': 0.5, 'early_stopping_rounds': 50, 'gamma': 2.7544911329130586, 'lambda': 2.6995098930098855, 'learning_rate': 0.1, 'max_depth': 35, 'min_child_weight': 9.893196073535826, 'n_estimators': 1000, 'random_state': 1, 'subsample': 0.0}, logloss:1.7010\n",
      "params: {'alpha': 7.345092216654836, 'colsample': 0.4, 'early_stopping_rounds': 50, 'gamma': 4.712003650685112, 'lambda': 6.405668144167217, 'learning_rate': 0.1, 'max_depth': 50, 'min_child_weight': 9.220927069310543, 'n_estimators': 1000, 'random_state': 1, 'subsample': 0.2}, logloss:1.7010\n",
      "params: {'alpha': 6.6181306386196885, 'colsample': 0.5, 'early_stopping_rounds': 50, 'gamma': 3.139817470384478, 'lambda': 2.5482544824817555, 'learning_rate': 0.1, 'max_depth': 50, 'min_child_weight': 9.389330257372954, 'n_estimators': 1000, 'random_state': 1, 'subsample': 0.7000000000000001}, logloss:1.7010\n",
      "params: {'alpha': 3.001365301271469, 'colsample': 0.1, 'early_stopping_rounds': 50, 'gamma': 4.991049670491121, 'lambda': 7.464245795697836, 'learning_rate': 0.1, 'max_depth': 35, 'min_child_weight': 6.487695893187745, 'n_estimators': 1000, 'random_state': 1, 'subsample': 0.7000000000000001}, logloss:1.7010\n",
      "params: {'alpha': 3.143411971789447, 'colsample': 0.0, 'early_stopping_rounds': 50, 'gamma': 6.480503167095561, 'lambda': 6.666616828189048, 'learning_rate': 0.1, 'max_depth': 45, 'min_child_weight': 5.940271959418789, 'n_estimators': 1000, 'random_state': 1, 'subsample': 0.7000000000000001}, logloss:1.7010\n",
      "params: {'alpha': 3.9306478825840534, 'colsample': 0.2, 'early_stopping_rounds': 50, 'gamma': 7.758118332436723, 'lambda': 7.842348986783871, 'learning_rate': 0.1, 'max_depth': 75, 'min_child_weight': 5.540625482916862, 'n_estimators': 1000, 'random_state': 1, 'subsample': 0.9}, logloss:1.7010\n",
      "params: {'alpha': 0.4769084643723426, 'colsample': 0.9, 'early_stopping_rounds': 50, 'gamma': 8.635814937357123, 'lambda': 8.650260859013985, 'learning_rate': 0.1, 'max_depth': 65, 'min_child_weight': 3.5729560036977523, 'n_estimators': 1000, 'random_state': 1, 'subsample': 0.8}, logloss:1.7010\n",
      "params: {'alpha': 6.1218749091577465, 'colsample': 0.9, 'early_stopping_rounds': 50, 'gamma': 9.697870972411788, 'lambda': 7.950024416328255, 'learning_rate': 0.1, 'max_depth': 95, 'min_child_weight': 2.306345687902558, 'n_estimators': 1000, 'random_state': 1, 'subsample': 0.1}, logloss:1.7010\n",
      "params: {'alpha': 8.235769410938754, 'colsample': 0.8, 'early_stopping_rounds': 50, 'gamma': 2.270367759287709, 'lambda': 2.257114369156251, 'learning_rate': 0.1, 'max_depth': 15, 'min_child_weight': 1.9643344593716119, 'n_estimators': 1000, 'random_state': 1, 'subsample': 0.0}, logloss:1.7010\n",
      "params: {'alpha': 8.725969596991114, 'colsample': 0.7000000000000001, 'early_stopping_rounds': 50, 'gamma': 1.9218078479082266, 'lambda': 3.4569052109748517, 'learning_rate': 0.1, 'max_depth': 25, 'min_child_weight': 2.9422256038203067, 'n_estimators': 1000, 'random_state': 1, 'subsample': 0.0}, logloss:1.7010\n",
      "params: {'alpha': 9.430107913321642, 'colsample': 0.7000000000000001, 'early_stopping_rounds': 50, 'gamma': 3.314115327852968, 'lambda': 3.5001811153679894, 'learning_rate': 0.1, 'max_depth': 25, 'min_child_weight': 1.5406449259389348, 'n_estimators': 1000, 'random_state': 1, 'subsample': 0.0}, logloss:1.7010\n",
      "params: {'alpha': 9.113089917331928, 'colsample': 0.6000000000000001, 'early_stopping_rounds': 50, 'gamma': 1.2102480930441386, 'lambda': 4.2177564400675, 'learning_rate': 0.1, 'max_depth': 10, 'min_child_weight': 8.721160686517663, 'n_estimators': 1000, 'random_state': 1, 'subsample': 0.5}, logloss:1.7010\n",
      "params: {'alpha': 6.964378692948447, 'colsample': 0.6000000000000001, 'early_stopping_rounds': 50, 'gamma': 0.6343263737413682, 'lambda': 4.5967375888046895, 'learning_rate': 0.1, 'max_depth': 0, 'min_child_weight': 8.500785738277886, 'n_estimators': 1000, 'random_state': 1, 'subsample': 0.5}, logloss:1.7010\n",
      "params: {'alpha': 9.971915953748926, 'colsample': 0.6000000000000001, 'early_stopping_rounds': 50, 'gamma': 4.236226227414448, 'lambda': 0.31864467020453546, 'learning_rate': 0.1, 'max_depth': 20, 'min_child_weight': 1.7319707002044837, 'n_estimators': 1000, 'random_state': 1, 'subsample': 0.30000000000000004}, logloss:1.7010\n",
      "params: {'alpha': 8.568641468763929, 'colsample': 0.4, 'early_stopping_rounds': 50, 'gamma': 4.022431530174759, 'lambda': 0.38709922415265674, 'learning_rate': 0.1, 'max_depth': 25, 'min_child_weight': 0.33931950905127106, 'n_estimators': 1000, 'random_state': 1, 'subsample': 0.30000000000000004}, logloss:1.7010\n",
      "params: {'alpha': 7.868536326647267, 'colsample': 0.1, 'early_stopping_rounds': 50, 'gamma': 5.234166184890862, 'lambda': 0.6903167132033097, 'learning_rate': 0.1, 'max_depth': 30, 'min_child_weight': 1.365924872895963, 'n_estimators': 1000, 'random_state': 1, 'subsample': 0.5}, logloss:1.7010\n",
      "params: {'alpha': 9.85383184891814, 'colsample': 0.5, 'early_stopping_rounds': 50, 'gamma': 4.769605286975032, 'lambda': 0.852727888029679, 'learning_rate': 0.1, 'max_depth': 40, 'min_child_weight': 2.537711118172279, 'n_estimators': 1000, 'random_state': 1, 'subsample': 0.2}, logloss:1.7010\n",
      "params: {'alpha': 5.446681766645985, 'colsample': 0.7000000000000001, 'early_stopping_rounds': 50, 'gamma': 5.729657371499512, 'lambda': 0.08434184158457822, 'learning_rate': 0.1, 'max_depth': 55, 'min_child_weight': 5.187286988678982, 'n_estimators': 1000, 'random_state': 1, 'subsample': 0.8}, logloss:1.7010\n",
      "params: {'alpha': 5.782390821585289, 'colsample': 0.5, 'early_stopping_rounds': 50, 'gamma': 3.5297659844375557, 'lambda': 1.5258987933961805, 'learning_rate': 0.1, 'max_depth': 30, 'min_child_weight': 4.871155766494533, 'n_estimators': 1000, 'random_state': 1, 'subsample': 0.8}, logloss:1.7010\n",
      "params: {'alpha': 3.6498669581714385, 'colsample': 0.6000000000000001, 'early_stopping_rounds': 50, 'gamma': 5.420948661111248, 'lambda': 2.1300956952444188, 'learning_rate': 0.1, 'max_depth': 60, 'min_child_weight': 6.697652959507243, 'n_estimators': 1000, 'random_state': 1, 'subsample': 0.8}, logloss:1.7010\n",
      "params: {'alpha': 4.183236240770978, 'colsample': 0.30000000000000004, 'early_stopping_rounds': 50, 'gamma': 6.163731665653204, 'lambda': 1.597401879094108, 'learning_rate': 0.1, 'max_depth': 70, 'min_child_weight': 6.372225229656012, 'n_estimators': 1000, 'random_state': 1, 'subsample': 0.8}, logloss:1.7010\n",
      "params: {'alpha': 4.6716933815347925, 'colsample': 0.2, 'early_stopping_rounds': 50, 'gamma': 8.238347971341048, 'lambda': 3.087060419057933, 'learning_rate': 0.1, 'max_depth': 90, 'min_child_weight': 1.3008342749313377, 'n_estimators': 1000, 'random_state': 1, 'subsample': 0.6000000000000001}, logloss:1.7010\n",
      "params: {'alpha': 4.776480956302049, 'colsample': 0.0, 'early_stopping_rounds': 50, 'gamma': 6.27589875866596, 'lambda': 1.0894363303479386, 'learning_rate': 0.1, 'max_depth': 65, 'min_child_weight': 2.5173304093622737, 'n_estimators': 1000, 'random_state': 1, 'subsample': 0.6000000000000001}, logloss:1.7010\n",
      "params: {'alpha': 0.15176565606206727, 'colsample': 0.8, 'early_stopping_rounds': 50, 'gamma': 6.9435120354896505, 'lambda': 5.349124285100379, 'learning_rate': 0.1, 'max_depth': 80, 'min_child_weight': 4.6213946468948395, 'n_estimators': 1000, 'random_state': 1, 'subsample': 0.6000000000000001}, logloss:1.7010\n",
      "params: {'alpha': 9.001274765867175, 'colsample': 1.0, 'early_stopping_rounds': 50, 'gamma': 2.94248249290711, 'lambda': 8.081936037162402, 'learning_rate': 0.1, 'max_depth': 15, 'min_child_weight': 0.7628020576706407, 'n_estimators': 1000, 'random_state': 1, 'subsample': 0.1}, logloss:1.7010\n",
      "params: {'alpha': 8.266565589617707, 'colsample': 0.7000000000000001, 'early_stopping_rounds': 50, 'gamma': 3.104045398149828, 'lambda': 2.895625599819009, 'learning_rate': 0.1, 'max_depth': 15, 'min_child_weight': 1.671846639381978, 'n_estimators': 1000, 'random_state': 1, 'subsample': 0.0}, logloss:1.7010\n",
      "params: {'alpha': 8.858285085750444, 'colsample': 0.6000000000000001, 'early_stopping_rounds': 50, 'gamma': 2.1175999996435513, 'lambda': 5.95742441278989, 'learning_rate': 0.1, 'max_depth': 5, 'min_child_weight': 2.888720038983624, 'n_estimators': 1000, 'random_state': 1, 'subsample': 0.1}, logloss:1.7010\n",
      "params: {'alpha': 9.52098541734231, 'colsample': 0.7000000000000001, 'early_stopping_rounds': 50, 'gamma': 0.3448008874487164, 'lambda': 2.3638645651737398, 'learning_rate': 0.1, 'max_depth': 20, 'min_child_weight': 7.831208602615776, 'n_estimators': 1000, 'random_state': 1, 'subsample': 0.5}, logloss:1.7010\n",
      "params: {'alpha': 7.195011575197359, 'colsample': 0.4, 'early_stopping_rounds': 50, 'gamma': 1.4834035409946533, 'lambda': 0.41086692393811397, 'learning_rate': 0.1, 'max_depth': 10, 'min_child_weight': 2.1783974378313093, 'n_estimators': 1000, 'random_state': 1, 'subsample': 0.4}, logloss:1.7010\n",
      "params: {'alpha': 7.112993886196101, 'colsample': 0.1, 'early_stopping_rounds': 50, 'gamma': 4.188095487830603, 'lambda': 0.010771716404559317, 'learning_rate': 0.1, 'max_depth': 20, 'min_child_weight': 0.996685183429757, 'n_estimators': 1000, 'random_state': 1, 'subsample': 0.5}, logloss:1.7010\n",
      "params: {'alpha': 7.665646266928523, 'colsample': 0.0, 'early_stopping_rounds': 50, 'gamma': 4.584185122240991, 'lambda': 1.924544420733318, 'learning_rate': 0.1, 'max_depth': 25, 'min_child_weight': 0.059156476266706934, 'n_estimators': 1000, 'random_state': 1, 'subsample': 0.4}, logloss:1.7010\n",
      "100%|██████████| 150/150 [00:21<00:00,  6.99trial/s, best loss: 1.7009809813289731]\n"
     ]
    },
    {
     "data": {
      "text/plain": [
       "{'alpha': 0.6605658326192843,\n",
       " 'colsample': 0.6000000000000001,\n",
       " 'early_stopping_rounds': 0,\n",
       " 'gamma': 5.278539945811328,\n",
       " 'lambda': 1.0359340786848847,\n",
       " 'learning_rate': 0,\n",
       " 'max_depth': 30.0,\n",
       " 'min_child_weight': 3.413727471698629,\n",
       " 'n_estimators': 0,\n",
       " 'random_state': 0,\n",
       " 'subsample': 0.6000000000000001}"
      ]
     },
     "execution_count": 116,
     "metadata": {},
     "output_type": "execute_result"
    }
   ],
   "source": [
    "max_evals = 150\n",
    "trials = Trials()\n",
    "history = []\n",
    "fmin(score, space, algo=tpe.suggest, trials=trials, max_evals=max_evals)"
   ]
  },
  {
   "cell_type": "code",
   "execution_count": 117,
   "id": "earned-italian",
   "metadata": {},
   "outputs": [
    {
     "name": "stdout",
     "output_type": "stream",
     "text": [
      "best params: {'alpha': 0.6605658326192843, 'colsample': 0.6000000000000001, 'early_stopping_rounds': 50, 'gamma': 5.278539945811328, 'lambda': 1.0359340786848847, 'learning_rate': 0.1, 'max_depth': 30, 'min_child_weight': 3.413727471698629, 'n_estimators': 1000, 'random_state': 1, 'subsample': 0.6000000000000001}, score: 1.7010\n"
     ]
    }
   ],
   "source": [
    "history = sorted(history, key=lambda tpl: tpl[1])\n",
    "best = history[0]\n",
    "print(f'best params: {best[0]}, score: {best[1]:.4f}')"
   ]
  },
  {
   "cell_type": "code",
   "execution_count": 119,
   "id": "sharing-airplane",
   "metadata": {},
   "outputs": [
    {
     "name": "stdout",
     "output_type": "stream",
     "text": [
      "[15:30:26] WARNING: /Users/travis/build/dmlc/xgboost/src/learner.cc:516: \n",
      "Parameters: { colsample, early_stopping_rounds } might not be used.\n",
      "\n",
      "  This may not be accurate due to some parameters are only used in language bindings but\n",
      "  passed down to XGBoost core.  Or some parameters are not used but slip through this\n",
      "  verification. Please open an issue if you find above cases.\n",
      "\n",
      "\n"
     ]
    }
   ],
   "source": [
    "model = XGB()\n",
    "model.set_params(**best[0])\n",
    "model.fit(train_x, train_y)\n",
    "preds = model.predict(test_x)"
   ]
  },
  {
   "cell_type": "code",
   "execution_count": 120,
   "id": "owned-converter",
   "metadata": {},
   "outputs": [],
   "source": [
    "index = test_x.index.to_numpy().reshape(-1, 1)\n",
    "preds = preds.reshape(-1, 1)\n",
    "submission = np.concatenate((index, preds), axis=1)\n",
    "submission = pd.DataFrame(submission)"
   ]
  },
  {
   "cell_type": "code",
   "execution_count": 125,
   "id": "fundamental-finger",
   "metadata": {},
   "outputs": [],
   "source": [
    "submission.to_csv('xgb_ho.csv', index=False, header=False)"
   ]
  },
  {
   "cell_type": "markdown",
   "id": "occupational-tackle",
   "metadata": {},
   "source": [
    "## Torch"
   ]
  },
  {
   "cell_type": "code",
   "execution_count": 39,
   "id": "aggressive-scout",
   "metadata": {},
   "outputs": [],
   "source": [
    "dataset = TrainingDataset(target_transform = transform_labels)"
   ]
  },
  {
   "cell_type": "code",
   "execution_count": 40,
   "id": "spectacular-madrid",
   "metadata": {},
   "outputs": [],
   "source": [
    "train_ratio = 0.95\n",
    "train_size = int(train_ratio * len(dataset))\n",
    "test_size = len(dataset) - train_size\n",
    "train_dataset, val_dataset = random_split(dataset, [train_size, test_size])"
   ]
  },
  {
   "cell_type": "code",
   "execution_count": 41,
   "id": "automated-privacy",
   "metadata": {},
   "outputs": [
    {
     "name": "stdout",
     "output_type": "stream",
     "text": [
      "Shape of X torch.Size([6, 9])\n",
      "Shape of y torch.Size([6]) torch.int64\n"
     ]
    }
   ],
   "source": [
    "batch_size = 10\n",
    "\n",
    "train_dataloader = DataLoader(train_dataset, batch_size=batch_size)\n",
    "val_dataloader = DataLoader(val_dataset, batch_size=batch_size)\n",
    "\n",
    "for X, y in val_dataloader:\n",
    "    print('Shape of X', X.shape)\n",
    "    print('Shape of y', y.shape, y.dtype)\n",
    "    break"
   ]
  },
  {
   "cell_type": "code",
   "execution_count": 42,
   "id": "monetary-albert",
   "metadata": {},
   "outputs": [],
   "source": [
    "input_size = 9\n",
    "output_size = 6\n",
    "model = Torch(input_size, output_size)"
   ]
  },
  {
   "cell_type": "code",
   "execution_count": 43,
   "id": "coupled-coach",
   "metadata": {},
   "outputs": [],
   "source": [
    "loss_fn = nn.CrossEntropyLoss()\n",
    "optimizer = torch.optim.SGD(model.parameters(), lr=1e-3)"
   ]
  },
  {
   "cell_type": "code",
   "execution_count": 44,
   "id": "lined-terrorism",
   "metadata": {},
   "outputs": [
    {
     "name": "stdout",
     "output_type": "stream",
     "text": [
      "Epoch 1\n",
      "-------------------------------\n",
      "loss: 1.796193  [    0/  101]\n",
      "loss: 1.775526  [   20/  101]\n",
      "loss: 1.795517  [   40/  101]\n",
      "loss: 1.787526  [   60/  101]\n",
      "loss: 1.784987  [   80/  101]\n",
      "loss: 1.875845  [  100/  101]\n",
      "Test Error: \n",
      "Accuracy: 16.7%, Avg loss: 0.306299 \n",
      "\n",
      "Epoch 2\n",
      "-------------------------------\n",
      "loss: 1.795148  [    0/  101]\n",
      "loss: 1.775630  [   20/  101]\n",
      "loss: 1.796246  [   40/  101]\n",
      "loss: 1.788041  [   60/  101]\n",
      "loss: 1.785111  [   80/  101]\n",
      "loss: 1.871614  [  100/  101]\n",
      "Test Error: \n",
      "Accuracy: 16.7%, Avg loss: 0.305924 \n",
      "\n",
      "Epoch 3\n",
      "-------------------------------\n",
      "loss: 1.794282  [    0/  101]\n",
      "loss: 1.775714  [   20/  101]\n",
      "loss: 1.796897  [   40/  101]\n",
      "loss: 1.788494  [   60/  101]\n",
      "loss: 1.785205  [   80/  101]\n",
      "loss: 1.868060  [  100/  101]\n",
      "Test Error: \n",
      "Accuracy: 16.7%, Avg loss: 0.305613 \n",
      "\n",
      "Epoch 4\n",
      "-------------------------------\n",
      "loss: 1.793576  [    0/  101]\n",
      "loss: 1.775770  [   20/  101]\n",
      "loss: 1.797454  [   40/  101]\n",
      "loss: 1.788868  [   60/  101]\n",
      "loss: 1.785265  [   80/  101]\n",
      "loss: 1.865156  [  100/  101]\n",
      "Test Error: \n",
      "Accuracy: 0.0%, Avg loss: 0.305361 \n",
      "\n",
      "Epoch 5\n",
      "-------------------------------\n",
      "loss: 1.793004  [    0/  101]\n",
      "loss: 1.775794  [   20/  101]\n",
      "loss: 1.797907  [   40/  101]\n",
      "loss: 1.789159  [   60/  101]\n",
      "loss: 1.785291  [   80/  101]\n",
      "loss: 1.862840  [  100/  101]\n",
      "Test Error: \n",
      "Accuracy: 0.0%, Avg loss: 0.305161 \n",
      "\n",
      "Done!\n"
     ]
    }
   ],
   "source": [
    "epochs = 5\n",
    "for t in range(epochs):\n",
    "    print(f'Epoch {t+1}\\n-------------------------------')\n",
    "    train_model(train_dataloader, model, loss_fn, optimizer)\n",
    "    validate_model(val_dataloader, model, loss_fn)\n",
    "print('Done!')"
   ]
  },
  {
   "cell_type": "code",
   "execution_count": 45,
   "id": "close-neighborhood",
   "metadata": {},
   "outputs": [],
   "source": [
    "test_dataset = TestDataset()\n",
    "test_dataloader = DataLoader(test_dataset, batch_size=batch_size)\n",
    "preds = predict_test(test_dataloader, model)"
   ]
  },
  {
   "cell_type": "code",
   "execution_count": 46,
   "id": "military-period",
   "metadata": {},
   "outputs": [],
   "source": [
    "preds = [restore_labels(p) for p in preds]\n",
    "preds = np.array(preds)"
   ]
  },
  {
   "cell_type": "code",
   "execution_count": 47,
   "id": "european-speed",
   "metadata": {},
   "outputs": [],
   "source": [
    "# preds"
   ]
  },
  {
   "cell_type": "code",
   "execution_count": 48,
   "id": "headed-homework",
   "metadata": {},
   "outputs": [],
   "source": [
    "_, _, test_x = load_data()\n",
    "index = test_x.index.to_numpy().reshape(-1, 1)\n",
    "preds = preds.reshape(-1, 1)\n",
    "submission = np.concatenate((index, preds), axis=1)\n",
    "submission = pd.DataFrame(submission)"
   ]
  },
  {
   "cell_type": "code",
   "execution_count": 49,
   "id": "casual-protection",
   "metadata": {},
   "outputs": [],
   "source": [
    "submission.to_csv('torch.csv', index=False, header=False)"
   ]
  },
  {
   "cell_type": "markdown",
   "id": "coordinated-parameter",
   "metadata": {},
   "source": [
    "## Keras"
   ]
  },
  {
   "cell_type": "code",
   "execution_count": 212,
   "id": "minus-pharmacy",
   "metadata": {},
   "outputs": [],
   "source": [
    "TRAINING_FOR_SUBMISSION = True\n",
    "validation_split = 0.0 if TRAINING_FOR_SUBMISSION else 0.4"
   ]
  },
  {
   "cell_type": "code",
   "execution_count": 213,
   "id": "subject-landscape",
   "metadata": {},
   "outputs": [],
   "source": [
    "train_x, train_y, test_x = load_data()"
   ]
  },
  {
   "cell_type": "code",
   "execution_count": 214,
   "id": "removed-swiss",
   "metadata": {},
   "outputs": [],
   "source": [
    "num_classes = len(train_y.unique())\n",
    "train_y = pd.get_dummies(train_y)"
   ]
  },
  {
   "cell_type": "code",
   "execution_count": 215,
   "id": "ultimate-delicious",
   "metadata": {},
   "outputs": [
    {
     "name": "stdout",
     "output_type": "stream",
     "text": [
      "Model: \"sequential_22\"\n",
      "_________________________________________________________________\n",
      "Layer (type)                 Output Shape              Param #   \n",
      "=================================================================\n",
      "dense_66 (Dense)             (None, 64)                640       \n",
      "_________________________________________________________________\n",
      "dense_67 (Dense)             (None, 64)                4160      \n",
      "_________________________________________________________________\n",
      "dense_68 (Dense)             (None, 6)                 390       \n",
      "=================================================================\n",
      "Total params: 5,190\n",
      "Trainable params: 5,190\n",
      "Non-trainable params: 0\n",
      "_________________________________________________________________\n"
     ]
    }
   ],
   "source": [
    "input_shape = (train_x.shape[1],)\n",
    "model = Sequential([\n",
    "    Input(shape=input_shape),\n",
    "    Dense(64, activation='relu'),\n",
    "    Dense(64, activation='relu'),\n",
    "    Dense(num_classes, activation='softmax')\n",
    "])\n",
    "model.summary()"
   ]
  },
  {
   "cell_type": "code",
   "execution_count": 216,
   "id": "fifteen-expense",
   "metadata": {},
   "outputs": [],
   "source": [
    "learning_rate = 1e-3\n",
    "optimizer = Adam(learning_rate=learning_rate)"
   ]
  },
  {
   "cell_type": "code",
   "execution_count": 217,
   "id": "compressed-clerk",
   "metadata": {},
   "outputs": [
    {
     "name": "stdout",
     "output_type": "stream",
     "text": [
      "Epoch 1/5\n",
      "11/11 [==============================] - 0s 852us/step - loss: 8.0530 - accuracy: 0.1682\n",
      "Epoch 2/5\n",
      "11/11 [==============================] - 0s 789us/step - loss: 3.1567 - accuracy: 0.3551\n",
      "Epoch 3/5\n",
      "11/11 [==============================] - 0s 829us/step - loss: 2.0668 - accuracy: 0.3178\n",
      "Epoch 4/5\n",
      "11/11 [==============================] - 0s 903us/step - loss: 1.8164 - accuracy: 0.3738\n",
      "Epoch 5/5\n",
      "11/11 [==============================] - 0s 933us/step - loss: 1.5992 - accuracy: 0.4112\n"
     ]
    },
    {
     "data": {
      "text/plain": [
       "<tensorflow.python.keras.callbacks.History at 0x7ff84bd31290>"
      ]
     },
     "execution_count": 217,
     "metadata": {},
     "output_type": "execute_result"
    }
   ],
   "source": [
    "batch_size = 10\n",
    "epochs = 5\n",
    "\n",
    "model.compile(loss='categorical_crossentropy', optimizer=optimizer, metrics=['accuracy'])\n",
    "model.fit(train_x, train_y, batch_size=batch_size, epochs=epochs, validation_split=validation_split)"
   ]
  },
  {
   "cell_type": "code",
   "execution_count": 218,
   "id": "electronic-marathon",
   "metadata": {},
   "outputs": [],
   "source": [
    "classes = train_y.columns.tolist()\n",
    "preds = model.predict(test_x).argmax(axis=1)\n",
    "preds = [classes[pred] for pred in preds]\n",
    "preds = np.array(preds)\n",
    "preds = preds.reshape(-1, 1)"
   ]
  },
  {
   "cell_type": "code",
   "execution_count": 222,
   "id": "smaller-merchant",
   "metadata": {},
   "outputs": [],
   "source": [
    "# preds"
   ]
  },
  {
   "cell_type": "code",
   "execution_count": 220,
   "id": "loose-association",
   "metadata": {},
   "outputs": [],
   "source": [
    "index = test_x.index.to_numpy().reshape(-1, 1)\n",
    "submission = np.concatenate((index, preds), axis=1)\n",
    "submission = pd.DataFrame(submission)"
   ]
  },
  {
   "cell_type": "code",
   "execution_count": 221,
   "id": "continent-firmware",
   "metadata": {},
   "outputs": [],
   "source": [
    "submission.to_csv('keras.csv', index=False, header=False)"
   ]
  },
  {
   "cell_type": "code",
   "execution_count": null,
   "id": "offshore-indicator",
   "metadata": {},
   "outputs": [],
   "source": []
  }
 ],
 "metadata": {
  "kernelspec": {
   "display_name": "Python 3",
   "language": "python",
   "name": "python3"
  },
  "language_info": {
   "codemirror_mode": {
    "name": "ipython",
    "version": 3
   },
   "file_extension": ".py",
   "mimetype": "text/x-python",
   "name": "python",
   "nbconvert_exporter": "python",
   "pygments_lexer": "ipython3",
   "version": "3.7.9"
  }
 },
 "nbformat": 4,
 "nbformat_minor": 5
}
