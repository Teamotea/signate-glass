{
 "cells": [
  {
   "cell_type": "markdown",
   "id": "homeless-journalist",
   "metadata": {},
   "source": [
    "## Settings"
   ]
  },
  {
   "cell_type": "code",
   "execution_count": 83,
   "id": "pleased-willow",
   "metadata": {},
   "outputs": [],
   "source": [
    "# 一つ上の階層からモジュールを参照できるようにする\n",
    "import sys\n",
    "sys.path.append('..')"
   ]
  },
  {
   "cell_type": "code",
   "execution_count": 84,
   "id": "superior-career",
   "metadata": {},
   "outputs": [
    {
     "name": "stdout",
     "output_type": "stream",
     "text": [
      "The autoreload extension is already loaded. To reload it, use:\n",
      "  %reload_ext autoreload\n"
     ]
    }
   ],
   "source": [
    "# モジュールの変更を自動的に反映する\n",
    "%load_ext autoreload\n",
    "%autoreload 2"
   ]
  },
  {
   "cell_type": "code",
   "execution_count": 85,
   "id": "smart-navigator",
   "metadata": {},
   "outputs": [],
   "source": [
    "import numpy as np\n",
    "import pandas as pd\n",
    "from inputs import load_data\n",
    "# XGB\n",
    "from models import XGB\n",
    "# Torch\n",
    "import torch\n",
    "from torch import nn\n",
    "from torch.utils.data import DataLoader\n",
    "from torch.utils.data import random_split\n",
    "from models import TrainingDataset, Torch, transform_labels, restore_labels, train_model, validate_model, \\\n",
    "                   TestDataset, predict_test\n",
    "# Keras\n",
    "from keras import Sequential, Input\n",
    "from keras.utils import to_categorical\n",
    "from keras.layers import Dense, Dropout\n",
    "from keras.optimizers import Adam"
   ]
  },
  {
   "cell_type": "markdown",
   "id": "demonstrated-progress",
   "metadata": {},
   "source": [
    "## XGB"
   ]
  },
  {
   "cell_type": "code",
   "execution_count": 15,
   "id": "pointed-visitor",
   "metadata": {},
   "outputs": [],
   "source": [
    "train_x, train_y, test_x = load_data()"
   ]
  },
  {
   "cell_type": "code",
   "execution_count": 8,
   "id": "legal-graduation",
   "metadata": {},
   "outputs": [],
   "source": [
    "params = None\n",
    "model = XGB(params)"
   ]
  },
  {
   "cell_type": "code",
   "execution_count": 9,
   "id": "natural-guitar",
   "metadata": {},
   "outputs": [],
   "source": [
    "tr_x = train_x#[:80]\n",
    "va_x = train_x#[80:]\n",
    "tr_y = train_y#[:80]\n",
    "va_y = train_y#[80:]"
   ]
  },
  {
   "cell_type": "code",
   "execution_count": 15,
   "id": "bizarre-malta",
   "metadata": {},
   "outputs": [],
   "source": [
    "early_stopping = 5\n",
    "model.fit(tr_x, tr_y, va_x, va_y,\n",
    "          early_stopping_rounds=early_stopping,\n",
    "          verbose=False)"
   ]
  },
  {
   "cell_type": "code",
   "execution_count": 11,
   "id": "absolute-armor",
   "metadata": {},
   "outputs": [],
   "source": [
    "preds = model.predict(test_x)"
   ]
  },
  {
   "cell_type": "code",
   "execution_count": 12,
   "id": "undefined-detective",
   "metadata": {},
   "outputs": [],
   "source": [
    "index = test_x.index.to_numpy().reshape(-1, 1)\n",
    "preds = preds.reshape(-1, 1)\n",
    "submission = np.concatenate((index, preds), axis=1)\n",
    "submission = pd.DataFrame(submission)"
   ]
  },
  {
   "cell_type": "code",
   "execution_count": 13,
   "id": "seasonal-passage",
   "metadata": {},
   "outputs": [],
   "source": [
    "submission.to_csv('xgb.csv', index=False, header=False)"
   ]
  },
  {
   "cell_type": "markdown",
   "id": "played-emission",
   "metadata": {},
   "source": [
    "## Torch"
   ]
  },
  {
   "cell_type": "code",
   "execution_count": 86,
   "id": "geological-preparation",
   "metadata": {},
   "outputs": [],
   "source": [
    "dataset = TrainingDataset(target_transform = transform_labels)"
   ]
  },
  {
   "cell_type": "code",
   "execution_count": 87,
   "id": "broadband-great",
   "metadata": {},
   "outputs": [],
   "source": [
    "train_ratio = 0.95\n",
    "train_size = int(train_ratio * len(dataset))\n",
    "test_size = len(dataset) - train_size\n",
    "train_dataset, val_dataset = random_split(dataset, [train_size, test_size])"
   ]
  },
  {
   "cell_type": "code",
   "execution_count": 88,
   "id": "requested-federal",
   "metadata": {},
   "outputs": [
    {
     "name": "stdout",
     "output_type": "stream",
     "text": [
      "Shape of X torch.Size([6, 9])\n",
      "Shape of y torch.Size([6]) torch.int64\n"
     ]
    }
   ],
   "source": [
    "batch_size = 10\n",
    "\n",
    "train_dataloader = DataLoader(train_dataset, batch_size=batch_size)\n",
    "val_dataloader = DataLoader(val_dataset, batch_size=batch_size)\n",
    "\n",
    "for X, y in val_dataloader:\n",
    "    print('Shape of X', X.shape)\n",
    "    print('Shape of y', y.shape, y.dtype)\n",
    "    break"
   ]
  },
  {
   "cell_type": "code",
   "execution_count": 89,
   "id": "executed-furniture",
   "metadata": {},
   "outputs": [],
   "source": [
    "input_size = 9\n",
    "output_size = 6\n",
    "model = Torch(input_size, output_size)"
   ]
  },
  {
   "cell_type": "code",
   "execution_count": 90,
   "id": "partial-undergraduate",
   "metadata": {},
   "outputs": [],
   "source": [
    "loss_fn = nn.CrossEntropyLoss()\n",
    "optimizer = torch.optim.SGD(model.parameters(), lr=1e-3)"
   ]
  },
  {
   "cell_type": "code",
   "execution_count": 91,
   "id": "essential-september",
   "metadata": {},
   "outputs": [
    {
     "name": "stdout",
     "output_type": "stream",
     "text": [
      "Epoch 1\n",
      "-------------------------------\n",
      "loss: 1.933729  [    0/  101]\n",
      "loss: 1.886514  [   20/  101]\n",
      "loss: 1.932403  [   40/  101]\n",
      "loss: 1.886655  [   60/  101]\n",
      "loss: 1.828485  [   80/  101]\n",
      "loss: 1.543899  [  100/  101]\n",
      "Test Error: \n",
      "Accuracy: 33.3%, Avg loss: 0.290032 \n",
      "\n",
      "Epoch 2\n",
      "-------------------------------\n",
      "loss: 1.934103  [    0/  101]\n",
      "loss: 1.886456  [   20/  101]\n",
      "loss: 1.932743  [   40/  101]\n",
      "loss: 1.886594  [   60/  101]\n",
      "loss: 1.829483  [   80/  101]\n",
      "loss: 1.540428  [  100/  101]\n",
      "Test Error: \n",
      "Accuracy: 33.3%, Avg loss: 0.290123 \n",
      "\n",
      "Epoch 3\n",
      "-------------------------------\n",
      "loss: 1.934426  [    0/  101]\n",
      "loss: 1.886411  [   20/  101]\n",
      "loss: 1.933035  [   40/  101]\n",
      "loss: 1.886546  [   60/  101]\n",
      "loss: 1.830337  [   80/  101]\n",
      "loss: 1.537471  [  100/  101]\n",
      "Test Error: \n",
      "Accuracy: 33.3%, Avg loss: 0.290200 \n",
      "\n",
      "Epoch 4\n",
      "-------------------------------\n",
      "loss: 1.934703  [    0/  101]\n",
      "loss: 1.886375  [   20/  101]\n",
      "loss: 1.933287  [   40/  101]\n",
      "loss: 1.886506  [   60/  101]\n",
      "loss: 1.831065  [   80/  101]\n",
      "loss: 1.534951  [  100/  101]\n",
      "Test Error: \n",
      "Accuracy: 33.3%, Avg loss: 0.290266 \n",
      "\n",
      "Epoch 5\n",
      "-------------------------------\n",
      "loss: 1.934940  [    0/  101]\n",
      "loss: 1.886346  [   20/  101]\n",
      "loss: 1.933503  [   40/  101]\n",
      "loss: 1.886473  [   60/  101]\n",
      "loss: 1.831686  [   80/  101]\n",
      "loss: 1.532803  [  100/  101]\n",
      "Test Error: \n",
      "Accuracy: 16.7%, Avg loss: 0.290322 \n",
      "\n",
      "Done!\n"
     ]
    }
   ],
   "source": [
    "epochs = 5\n",
    "for t in range(epochs):\n",
    "    print(f'Epoch {t+1}\\n-------------------------------')\n",
    "    train_model(train_dataloader, model, loss_fn, optimizer)\n",
    "    validate_model(val_dataloader, model, loss_fn)\n",
    "print('Done!')"
   ]
  },
  {
   "cell_type": "code",
   "execution_count": 92,
   "id": "average-fluid",
   "metadata": {},
   "outputs": [],
   "source": [
    "test_dataset = TestDataset()\n",
    "test_dataloader = DataLoader(test_dataset, batch_size=batch_size)\n",
    "preds = predict_test(test_dataloader, model)"
   ]
  },
  {
   "cell_type": "code",
   "execution_count": 93,
   "id": "signal-characterization",
   "metadata": {},
   "outputs": [],
   "source": [
    "preds = [restore_labels(p) for p in preds]\n",
    "preds = np.array(preds)"
   ]
  },
  {
   "cell_type": "code",
   "execution_count": 94,
   "id": "psychological-masters",
   "metadata": {},
   "outputs": [],
   "source": [
    "_, _, test_x = load_data()\n",
    "index = test_x.index.to_numpy().reshape(-1, 1)\n",
    "preds = preds.reshape(-1, 1)\n",
    "submission = np.concatenate((index, preds), axis=1)\n",
    "submission = pd.DataFrame(submission)"
   ]
  },
  {
   "cell_type": "code",
   "execution_count": 95,
   "id": "romantic-conjunction",
   "metadata": {},
   "outputs": [],
   "source": [
    "submission.to_csv('torch.csv', index=False, header=False)"
   ]
  },
  {
   "cell_type": "markdown",
   "id": "female-creature",
   "metadata": {},
   "source": [
    "## Keras"
   ]
  },
  {
   "cell_type": "code",
   "execution_count": 212,
   "id": "attempted-landscape",
   "metadata": {},
   "outputs": [],
   "source": [
    "TRAINING_FOR_SUBMISSION = True\n",
    "validation_split = 0.0 if TRAINING_FOR_SUBMISSION else 0.4"
   ]
  },
  {
   "cell_type": "code",
   "execution_count": 213,
   "id": "loved-reducing",
   "metadata": {},
   "outputs": [],
   "source": [
    "train_x, train_y, test_x = load_data()"
   ]
  },
  {
   "cell_type": "code",
   "execution_count": 214,
   "id": "funny-facility",
   "metadata": {},
   "outputs": [],
   "source": [
    "num_classes = len(train_y.unique())\n",
    "train_y = pd.get_dummies(train_y)"
   ]
  },
  {
   "cell_type": "code",
   "execution_count": 215,
   "id": "focused-florida",
   "metadata": {},
   "outputs": [
    {
     "name": "stdout",
     "output_type": "stream",
     "text": [
      "Model: \"sequential_22\"\n",
      "_________________________________________________________________\n",
      "Layer (type)                 Output Shape              Param #   \n",
      "=================================================================\n",
      "dense_66 (Dense)             (None, 64)                640       \n",
      "_________________________________________________________________\n",
      "dense_67 (Dense)             (None, 64)                4160      \n",
      "_________________________________________________________________\n",
      "dense_68 (Dense)             (None, 6)                 390       \n",
      "=================================================================\n",
      "Total params: 5,190\n",
      "Trainable params: 5,190\n",
      "Non-trainable params: 0\n",
      "_________________________________________________________________\n"
     ]
    }
   ],
   "source": [
    "input_shape = (train_x.shape[1],)\n",
    "model = Sequential([\n",
    "    Input(shape=input_shape),\n",
    "    Dense(64, activation='relu'),\n",
    "    Dense(64, activation='relu'),\n",
    "    Dense(num_classes, activation='softmax')\n",
    "])\n",
    "model.summary()"
   ]
  },
  {
   "cell_type": "code",
   "execution_count": 216,
   "id": "earlier-moral",
   "metadata": {},
   "outputs": [],
   "source": [
    "learning_rate = 1e-3\n",
    "optimizer = Adam(learning_rate=learning_rate)"
   ]
  },
  {
   "cell_type": "code",
   "execution_count": 217,
   "id": "interior-thread",
   "metadata": {},
   "outputs": [
    {
     "name": "stdout",
     "output_type": "stream",
     "text": [
      "Epoch 1/5\n",
      "11/11 [==============================] - 0s 852us/step - loss: 8.0530 - accuracy: 0.1682\n",
      "Epoch 2/5\n",
      "11/11 [==============================] - 0s 789us/step - loss: 3.1567 - accuracy: 0.3551\n",
      "Epoch 3/5\n",
      "11/11 [==============================] - 0s 829us/step - loss: 2.0668 - accuracy: 0.3178\n",
      "Epoch 4/5\n",
      "11/11 [==============================] - 0s 903us/step - loss: 1.8164 - accuracy: 0.3738\n",
      "Epoch 5/5\n",
      "11/11 [==============================] - 0s 933us/step - loss: 1.5992 - accuracy: 0.4112\n"
     ]
    },
    {
     "data": {
      "text/plain": [
       "<tensorflow.python.keras.callbacks.History at 0x7ff84bd31290>"
      ]
     },
     "execution_count": 217,
     "metadata": {},
     "output_type": "execute_result"
    }
   ],
   "source": [
    "batch_size = 10\n",
    "epochs = 5\n",
    "\n",
    "model.compile(loss='categorical_crossentropy', optimizer=optimizer, metrics=['accuracy'])\n",
    "model.fit(train_x, train_y, batch_size=batch_size, epochs=epochs, validation_split=validation_split)"
   ]
  },
  {
   "cell_type": "code",
   "execution_count": 218,
   "id": "center-monitoring",
   "metadata": {},
   "outputs": [],
   "source": [
    "classes = train_y.columns.tolist()\n",
    "preds = model.predict(test_x).argmax(axis=1)\n",
    "preds = [classes[pred] for pred in preds]\n",
    "preds = np.array(preds)\n",
    "preds = preds.reshape(-1, 1)"
   ]
  },
  {
   "cell_type": "code",
   "execution_count": 222,
   "id": "heavy-debut",
   "metadata": {},
   "outputs": [],
   "source": [
    "# preds"
   ]
  },
  {
   "cell_type": "code",
   "execution_count": 220,
   "id": "measured-analyst",
   "metadata": {},
   "outputs": [],
   "source": [
    "index = test_x.index.to_numpy().reshape(-1, 1)\n",
    "submission = np.concatenate((index, preds), axis=1)\n",
    "submission = pd.DataFrame(submission)"
   ]
  },
  {
   "cell_type": "code",
   "execution_count": 221,
   "id": "acknowledged-heavy",
   "metadata": {},
   "outputs": [],
   "source": [
    "submission.to_csv('keras.csv', index=False, header=False)"
   ]
  },
  {
   "cell_type": "code",
   "execution_count": null,
   "id": "thermal-understanding",
   "metadata": {},
   "outputs": [],
   "source": []
  }
 ],
 "metadata": {
  "kernelspec": {
   "display_name": "Python 3",
   "language": "python",
   "name": "python3"
  },
  "language_info": {
   "codemirror_mode": {
    "name": "ipython",
    "version": 3
   },
   "file_extension": ".py",
   "mimetype": "text/x-python",
   "name": "python",
   "nbconvert_exporter": "python",
   "pygments_lexer": "ipython3",
   "version": "3.7.9"
  }
 },
 "nbformat": 4,
 "nbformat_minor": 5
}
